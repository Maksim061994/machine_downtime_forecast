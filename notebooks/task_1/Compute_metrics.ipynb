{
 "cells": [
  {
   "cell_type": "code",
   "execution_count": 28,
   "id": "ee3dc020-b456-496b-a27d-98eecef685ed",
   "metadata": {},
   "outputs": [],
   "source": [
    "import pandas as pd\n",
    "import datetime\n",
    "import matplotlib.pyplot as plt\n",
    "import numpy as np\n",
    "import numpy.ma as ma\n",
    "import dask.dataframe as dd\n",
    "from tqdm.notebook import tqdm\n",
    "from sklearn.model_selection import train_test_split\n",
    "from sklearn.ensemble import RandomForestClassifier\n",
    "from sklearn import metrics\n",
    "import itertools\n",
    "from sklearn.metrics import confusion_matrix\n",
    "from sklearn.preprocessing import StandardScaler\n",
    "from sklearn.utils.class_weight import compute_class_weight\n",
    "from catboost import CatBoostClassifier, Pool\n",
    "from sklearn.preprocessing import StandardScaler\n",
    "import seaborn as sns\n",
    "from scipy.special import boxcox1p\n",
    "from scipy.special import inv_boxcox1p\n",
    "import sklearn"
   ]
  },
  {
   "cell_type": "code",
   "execution_count": 2,
   "id": "01d6a7fe-51cd-4adc-be5d-2ab70972374c",
   "metadata": {},
   "outputs": [
    {
     "name": "stdout",
     "output_type": "stream",
     "text": [
      "Requirement already satisfied: openpyxl in /opt/conda/lib/python3.9/site-packages (3.1.2)\n",
      "Requirement already satisfied: et-xmlfile in /opt/conda/lib/python3.9/site-packages (from openpyxl) (1.1.0)\n",
      "\n",
      "\u001b[1m[\u001b[0m\u001b[34;49mnotice\u001b[0m\u001b[1;39;49m]\u001b[0m\u001b[39;49m A new release of pip is available: \u001b[0m\u001b[31;49m23.0.1\u001b[0m\u001b[39;49m -> \u001b[0m\u001b[32;49m23.1.2\u001b[0m\n",
      "\u001b[1m[\u001b[0m\u001b[34;49mnotice\u001b[0m\u001b[1;39;49m]\u001b[0m\u001b[39;49m To update, run: \u001b[0m\u001b[32;49mpip install --upgrade pip\u001b[0m\n"
     ]
    }
   ],
   "source": [
    "!pip install openpyxl"
   ]
  },
  {
   "cell_type": "code",
   "execution_count": 29,
   "id": "476ad0ab-8537-4b55-afa7-968707c5b687",
   "metadata": {},
   "outputs": [],
   "source": [
    "def find_nearest(array, value):\n",
    "    idx = (np.abs(array - value)).argmin()\n",
    "    return array[idx]\n",
    "\n",
    "def data_by_bins(y_test, y_preds, bins=20):   \n",
    "    y_test = pd.Series(y_test)\n",
    "    y_preds = pd.Series(y_preds)  \n",
    "    \n",
    "    intervals=list()\n",
    "    intervals.append(-np.inf)   \n",
    "    \n",
    "    print(\"Computing intervals\")\n",
    "    for i in tqdm(range(1, bins)):\n",
    "        intervals.append(y_preds.quantile(i / bins))        \n",
    "    intervals.append(np.inf)\n",
    "    \n",
    "    interval_data=list()\n",
    "    print(\"Collecting intervals data\")    \n",
    "    for i in tqdm(range(len(intervals)-1)):       \n",
    "        y_preds_interval_index = y_preds[(y_preds >= intervals[i]) & (y_preds <= intervals[i+1])].index \n",
    "        interval_data.append(np.array(y_test[y_preds_interval_index]))  \n",
    "        \n",
    "    return interval_data,intervals"
   ]
  },
  {
   "cell_type": "code",
   "execution_count": 4,
   "id": "ef5c3913-a84e-45b3-82f5-945dd19eb300",
   "metadata": {},
   "outputs": [],
   "source": [
    "messages=pd.read_excel(\"data/Датасеты/messages.xlsx\", header=0)\n",
    "test_intervals=pd.read_excel(\"data/Датасеты/test_intervals.xlsx\", header=0)\n",
    "messages.ДАТА_НАЧАЛА_НЕИСПРАВНОСТИ=pd.to_datetime(messages.ДАТА_НАЧАЛА_НЕИСПРАВНОСТИ)"
   ]
  },
  {
   "cell_type": "code",
   "execution_count": 5,
   "id": "e9b70630-61ad-43b5-b7fd-0ff8391bf1bc",
   "metadata": {},
   "outputs": [
    {
     "data": {
      "application/vnd.jupyter.widget-view+json": {
       "model_id": "8a68224a43724f4883e80777bc7f4e5b",
       "version_major": 2,
       "version_minor": 0
      },
      "text/plain": [
       "  0%|          | 0/6 [00:00<?, ?it/s]"
      ]
     },
     "metadata": {},
     "output_type": "display_data"
    }
   ],
   "source": [
    "y_fact_test=pd.DataFrame()\n",
    "y_pred_test=pd.DataFrame()\n",
    "for i in tqdm(range(4,10)):\n",
    "    y_p=pd.read_csv(f\"pred_data/y_test_exg_{i}.csv\")\n",
    "    y_fact_test=pd.concat([y_fact_test,y_p],axis=0)\n",
    "    del y_p\n",
    "    y_t=pd.read_csv(f\"pred_data/y_preds_exg_{i}.csv\")\n",
    "    y_pred_test=pd.concat([y_pred_test,y_t],axis=0)\n",
    "    del y_t\n",
    "    \n",
    "y_pred_test[\"0\"]=boxcox1p(inv_boxcox1p(y_pred_test[\"0\"], 0.7)/60, 0.7)\n",
    "y_fact_test.y=boxcox1p(inv_boxcox1p(y_fact_test.y, 0.7)/60, 0.7)"
   ]
  },
  {
   "cell_type": "code",
   "execution_count": 6,
   "id": "b18f6125-8104-4e74-863c-71c9417c47f9",
   "metadata": {},
   "outputs": [
    {
     "name": "stdout",
     "output_type": "stream",
     "text": [
      "Computing intervals\n"
     ]
    },
    {
     "data": {
      "application/vnd.jupyter.widget-view+json": {
       "model_id": "9731eae13128470f82fd72864c3e9415",
       "version_major": 2,
       "version_minor": 0
      },
      "text/plain": [
       "  0%|          | 0/19 [00:00<?, ?it/s]"
      ]
     },
     "metadata": {},
     "output_type": "display_data"
    },
    {
     "name": "stdout",
     "output_type": "stream",
     "text": [
      "Collecting intervals data\n"
     ]
    },
    {
     "data": {
      "application/vnd.jupyter.widget-view+json": {
       "model_id": "818a1ab3a533446ba180e7789435b22e",
       "version_major": 2,
       "version_minor": 0
      },
      "text/plain": [
       "  0%|          | 0/20 [00:00<?, ?it/s]"
      ]
     },
     "metadata": {},
     "output_type": "display_data"
    }
   ],
   "source": [
    "interval_data, intervals=data_by_bins(y_fact_test.y, y_pred_test[\"0\"], bins=20) "
   ]
  },
  {
   "cell_type": "code",
   "execution_count": 7,
   "id": "6205cbc2-02d1-4aad-8529-34d27aedb8c1",
   "metadata": {},
   "outputs": [],
   "source": [
    "def make_intervals_with_M1(msg):\n",
    "    return msg.ДАТА_НАЧАЛА_НЕИСПРАВНОСТИ.tolist()\n",
    "\n",
    "def make_intervals_without_M1(y_test,msg,delta):\n",
    "    count=0\n",
    "    t_list=list()\n",
    "    for i in tqdm(range(int(y_test.DT.min().timestamp())+delta,int(y_test.DT.max().timestamp()),int(delta))):\n",
    "        t1=i\n",
    "        t2=i+delta\n",
    "        for j in range(msg.shape[0]):\n",
    "            was_M1=0\n",
    "            if (t1>msg.ДАТА_НАЧАЛА_НЕИСПРАВНОСТИ.iloc[j].timestamp()) & (t1<msg.ДАТА_УСТРАНЕНИЯ_НЕИСПРАВНОСТИ.iloc[j].timestamp()):\n",
    "                was_M1=1\n",
    "                break\n",
    "            if (t2>msg.ДАТА_НАЧАЛА_НЕИСПРАВНОСТИ.iloc[j].timestamp()) & (t2<msg.ДАТА_УСТРАНЕНИЯ_НЕИСПРАВНОСТИ.iloc[j].timestamp()):\n",
    "                was_M1=1\n",
    "                break              \n",
    "            if (t1<msg.ДАТА_НАЧАЛА_НЕИСПРАВНОСТИ.iloc[j].timestamp()) & (t2>msg.ДАТА_УСТРАНЕНИЯ_НЕИСПРАВНОСТИ.iloc[j].timestamp()):\n",
    "                was_M1=1\n",
    "                break    \n",
    "        if was_M1==0:\n",
    "            t_list.append(t1)\n",
    "        count+=was_M1\n",
    "    #print(count)\n",
    "    return pd.to_datetime(t_list,unit='s')"
   ]
  },
  {
   "cell_type": "code",
   "execution_count": 8,
   "id": "c26dd1a6-0220-4ae2-bc71-526fe6737f97",
   "metadata": {},
   "outputs": [],
   "source": [
    "def find_prob(model_prediction, horizon, intervals, interval_data):    \n",
    "    for i in range(len(intervals)):\n",
    "        if model_prediction < intervals[i]:              \n",
    "            break       \n",
    "    return (interval_data[i-1] <= horizon).sum() / interval_data[i-1].shape[0]"
   ]
  },
  {
   "cell_type": "code",
   "execution_count": 9,
   "id": "2e5b4a4e-474b-46bd-ba14-1b9e8f7a30a3",
   "metadata": {},
   "outputs": [],
   "source": [
    "def calculate_prob_by_interval(interv,y_test,y_preds,interval_data,intervals):\n",
    "    probs=list()\n",
    "    \n",
    "    print(\"Computing probabilities\")   \n",
    "    for i in tqdm(range(len(interv))):\n",
    "        t=interv[i]-d_t\n",
    "        nearest_t=find_nearest(y_test.DT, t)\n",
    "        w=y_test[y_test.DT==nearest_t]\n",
    "        prediction=y_preds[\"0\"][w.index].iloc[0]\n",
    "        prediction_to_minutes=boxcox1p(inv_boxcox1p(prediction, 0.7)/60, 0.7)\n",
    "                \n",
    "        p=find_prob(prediction_to_minutes, horizon, intervals, interval_data) \n",
    "        #print(p,prediction_to_minutes)  \n",
    "        probs.append(p)\n",
    "    return probs"
   ]
  },
  {
   "cell_type": "code",
   "execution_count": 10,
   "id": "d98fa00e-80f5-4147-90e2-f0ab6a3e11f8",
   "metadata": {},
   "outputs": [],
   "source": [
    "def prepare_data(exg_number, take_first_elements = 10):\n",
    "    y_preds=pd.read_csv(f\"pred_data/y_preds_exg_{exg_number}.csv\")\n",
    "    y_test=pd.read_csv(f\"pred_data/y_test_exg_{exg_number}.csv\")\n",
    "    y_test.DT=pd.to_datetime(y_test.DT)\n",
    "    \n",
    "    msg=messages[(messages.ВИД_СООБЩЕНИЯ==\"M1\") & (messages.ИМЯ_МАШИНЫ==f\"ЭКСГАУСТЕР А/М №{exg_number}\")]\n",
    "    #msg=msg[(msg.ДАТА_НАЧАЛА_НЕИСПРАВНОСТИ>y_test.DT.min()) & (msg.ДАТА_НАЧАЛА_НЕИСПРАВНОСТИ<y_test.DT.max())]\n",
    "    msg=msg[(msg.ДАТА_НАЧАЛА_НЕИСПРАВНОСТИ>pd.to_datetime('2020-09-01 00:00:00')) & (msg.ДАТА_НАЧАЛА_НЕИСПРАВНОСТИ<pd.to_datetime('2021-12-31 23:59:59'))]    \n",
    "    \n",
    "    intervals_with_M1=make_intervals_with_M1(msg)\n",
    "    intervals_without_M1=make_intervals_without_M1(y_test,msg,delta)\n",
    "     \n",
    "    p_M1_YES=calculate_prob_by_interval(intervals_with_M1[:take_first_elements],y_test,y_preds,interval_data,intervals)\n",
    "    p_M1_NO=calculate_prob_by_interval(intervals_without_M1[:take_first_elements],y_test,y_preds,interval_data,intervals)\n",
    "    return p_M1_YES, p_M1_NO"
   ]
  },
  {
   "cell_type": "code",
   "execution_count": 11,
   "id": "6afe86a5-0aef-4487-a6f2-60adcf02b04a",
   "metadata": {},
   "outputs": [],
   "source": [
    "def calculate_metrcis(thresholder, p_M1_YES, p_M1_NO):   \n",
    "    res_pred=np.concatenate([p_M1_YES,p_M1_NO])\n",
    "    res_predictions=(res_pred>thresholder).astype(int)\n",
    "    res_fact=np.concatenate([np.ones(len(p_M1_YES)),np.zeros(len(p_M1_NO))])\n",
    "    accuracy=sklearn.metrics.accuracy_score(res_fact, res_predictions)\n",
    "    precision=sklearn.metrics.precision_score(res_fact, res_predictions)\n",
    "    recall=sklearn.metrics.recall_score(res_fact, res_predictions)\n",
    "    f1_score=sklearn.metrics.f1_score(res_fact, res_predictions)\n",
    "    return accuracy,precision,recall,f1_score"
   ]
  },
  {
   "cell_type": "code",
   "execution_count": 12,
   "id": "65873a9d-44d6-4d22-b8e7-282b8653eca1",
   "metadata": {},
   "outputs": [],
   "source": [
    "delta=(test_intervals.finish-test_intervals.start).mean().seconds\n",
    "delta_minutes=delta/60\n",
    "d_t=datetime.timedelta(seconds=delta_minutes/2)\n",
    "horizon= boxcox1p(delta_minutes, 0.7)"
   ]
  },
  {
   "cell_type": "code",
   "execution_count": 13,
   "id": "348ab951-3dbf-48f1-b37b-208788b781fb",
   "metadata": {
    "tags": []
   },
   "outputs": [
    {
     "data": {
      "application/vnd.jupyter.widget-view+json": {
       "model_id": "17c775cf0b0544648f4e5ed4ad57b911",
       "version_major": 2,
       "version_minor": 0
      },
      "text/plain": [
       "  0%|          | 0/816 [00:00<?, ?it/s]"
      ]
     },
     "metadata": {},
     "output_type": "display_data"
    },
    {
     "name": "stdout",
     "output_type": "stream",
     "text": [
      "Computing probabilities\n"
     ]
    },
    {
     "data": {
      "application/vnd.jupyter.widget-view+json": {
       "model_id": "aedc2d2a99d74386a065953d6da08e6b",
       "version_major": 2,
       "version_minor": 0
      },
      "text/plain": [
       "  0%|          | 0/8 [00:00<?, ?it/s]"
      ]
     },
     "metadata": {},
     "output_type": "display_data"
    },
    {
     "name": "stdout",
     "output_type": "stream",
     "text": [
      "Computing probabilities\n"
     ]
    },
    {
     "data": {
      "application/vnd.jupyter.widget-view+json": {
       "model_id": "bd15fa89a3b142df9ac235be3c9eb3de",
       "version_major": 2,
       "version_minor": 0
      },
      "text/plain": [
       "  0%|          | 0/100 [00:00<?, ?it/s]"
      ]
     },
     "metadata": {},
     "output_type": "display_data"
    }
   ],
   "source": [
    "p_M1_YES_exg_4, p_M1_NO_exg_4 = prepare_data(4, take_first_elements = 100)"
   ]
  },
  {
   "cell_type": "code",
   "execution_count": 14,
   "id": "60b81463-f643-4e2a-b7b9-923e932e5a8b",
   "metadata": {},
   "outputs": [
    {
     "data": {
      "text/plain": [
       "(0.9074074074074074, 0.4375, 0.875, 0.5833333333333334)"
      ]
     },
     "execution_count": 14,
     "metadata": {},
     "output_type": "execute_result"
    }
   ],
   "source": [
    "calculate_metrcis(0.0048, p_M1_YES_exg_4, p_M1_NO_exg_4)"
   ]
  },
  {
   "cell_type": "code",
   "execution_count": 15,
   "id": "3fbfd231-04e5-40ca-b108-6eb6c2ee92a4",
   "metadata": {},
   "outputs": [
    {
     "data": {
      "application/vnd.jupyter.widget-view+json": {
       "model_id": "f116af699ab64cc0b6b8118a039c2dfb",
       "version_major": 2,
       "version_minor": 0
      },
      "text/plain": [
       "  0%|          | 0/2296 [00:00<?, ?it/s]"
      ]
     },
     "metadata": {},
     "output_type": "display_data"
    },
    {
     "name": "stdout",
     "output_type": "stream",
     "text": [
      "Computing probabilities\n"
     ]
    },
    {
     "data": {
      "application/vnd.jupyter.widget-view+json": {
       "model_id": "d429919d57004586b88a87eb15ccf468",
       "version_major": 2,
       "version_minor": 0
      },
      "text/plain": [
       "  0%|          | 0/16 [00:00<?, ?it/s]"
      ]
     },
     "metadata": {},
     "output_type": "display_data"
    },
    {
     "name": "stdout",
     "output_type": "stream",
     "text": [
      "Computing probabilities\n"
     ]
    },
    {
     "data": {
      "application/vnd.jupyter.widget-view+json": {
       "model_id": "d0a089b02acb474db1c6c4b82ad41e60",
       "version_major": 2,
       "version_minor": 0
      },
      "text/plain": [
       "  0%|          | 0/100 [00:00<?, ?it/s]"
      ]
     },
     "metadata": {},
     "output_type": "display_data"
    }
   ],
   "source": [
    "p_M1_YES_exg_5, p_M1_NO_exg_5 = prepare_data(5, take_first_elements = 100)"
   ]
  },
  {
   "cell_type": "code",
   "execution_count": 31,
   "id": "89db6ff3-5956-4d8a-b560-ce181571cb14",
   "metadata": {},
   "outputs": [
    {
     "data": {
      "text/plain": [
       "(0.7586206896551724, 0.125, 0.125, 0.125)"
      ]
     },
     "execution_count": 31,
     "metadata": {},
     "output_type": "execute_result"
    }
   ],
   "source": [
    "calculate_metrcis(0.005, p_M1_YES_exg_5, p_M1_NO_exg_5)"
   ]
  },
  {
   "cell_type": "code",
   "execution_count": 17,
   "id": "68e561d4-e198-48a4-9f6c-3679d8c45818",
   "metadata": {},
   "outputs": [
    {
     "data": {
      "application/vnd.jupyter.widget-view+json": {
       "model_id": "9526a8e6c450451f8c45fa7efdd978a7",
       "version_major": 2,
       "version_minor": 0
      },
      "text/plain": [
       "  0%|          | 0/1104 [00:00<?, ?it/s]"
      ]
     },
     "metadata": {},
     "output_type": "display_data"
    },
    {
     "name": "stdout",
     "output_type": "stream",
     "text": [
      "Computing probabilities\n"
     ]
    },
    {
     "data": {
      "application/vnd.jupyter.widget-view+json": {
       "model_id": "7008d2d9d6c94c3aaa7a5e3114d6ae69",
       "version_major": 2,
       "version_minor": 0
      },
      "text/plain": [
       "  0%|          | 0/4 [00:00<?, ?it/s]"
      ]
     },
     "metadata": {},
     "output_type": "display_data"
    },
    {
     "name": "stdout",
     "output_type": "stream",
     "text": [
      "Computing probabilities\n"
     ]
    },
    {
     "data": {
      "application/vnd.jupyter.widget-view+json": {
       "model_id": "62e4fcf6ae6e45d7b1dc97930e81c4e8",
       "version_major": 2,
       "version_minor": 0
      },
      "text/plain": [
       "  0%|          | 0/100 [00:00<?, ?it/s]"
      ]
     },
     "metadata": {},
     "output_type": "display_data"
    }
   ],
   "source": [
    "p_M1_YES_exg_6, p_M1_NO_exg_6 = prepare_data(6, take_first_elements = 100)"
   ]
  },
  {
   "cell_type": "code",
   "execution_count": 32,
   "id": "c4ec3c43-cf5e-47c7-8e03-cd0c0fdd5b64",
   "metadata": {},
   "outputs": [
    {
     "data": {
      "text/plain": [
       "(0.8076923076923077, 0.1, 0.5, 0.16666666666666669)"
      ]
     },
     "execution_count": 32,
     "metadata": {},
     "output_type": "execute_result"
    }
   ],
   "source": [
    "calculate_metrcis(0.0038, p_M1_YES_exg_6, p_M1_NO_exg_6)"
   ]
  },
  {
   "cell_type": "code",
   "execution_count": 19,
   "id": "272e60c1-1f0f-41a7-866c-0714b4bc9dfe",
   "metadata": {},
   "outputs": [
    {
     "data": {
      "application/vnd.jupyter.widget-view+json": {
       "model_id": "95f0dc9f577f491d9ca618db7069ef8e",
       "version_major": 2,
       "version_minor": 0
      },
      "text/plain": [
       "  0%|          | 0/1025 [00:00<?, ?it/s]"
      ]
     },
     "metadata": {},
     "output_type": "display_data"
    },
    {
     "name": "stdout",
     "output_type": "stream",
     "text": [
      "Computing probabilities\n"
     ]
    },
    {
     "data": {
      "application/vnd.jupyter.widget-view+json": {
       "model_id": "b1c28cfaed1840a7b04d7bc35dc5a151",
       "version_major": 2,
       "version_minor": 0
      },
      "text/plain": [
       "  0%|          | 0/9 [00:00<?, ?it/s]"
      ]
     },
     "metadata": {},
     "output_type": "display_data"
    },
    {
     "name": "stdout",
     "output_type": "stream",
     "text": [
      "Computing probabilities\n"
     ]
    },
    {
     "data": {
      "application/vnd.jupyter.widget-view+json": {
       "model_id": "2ccbeceff05b4e3fb2886ebaeda13dc2",
       "version_major": 2,
       "version_minor": 0
      },
      "text/plain": [
       "  0%|          | 0/100 [00:00<?, ?it/s]"
      ]
     },
     "metadata": {},
     "output_type": "display_data"
    }
   ],
   "source": [
    "p_M1_YES_exg_7, p_M1_NO_exg_7 = prepare_data(7, take_first_elements = 100)"
   ]
  },
  {
   "cell_type": "code",
   "execution_count": 20,
   "id": "8a2d4eb2-7b45-463f-b6ff-b74f74060414",
   "metadata": {},
   "outputs": [
    {
     "data": {
      "text/plain": [
       "(0.9541284403669725, 1.0, 0.4444444444444444, 0.6153846153846153)"
      ]
     },
     "execution_count": 20,
     "metadata": {},
     "output_type": "execute_result"
    }
   ],
   "source": [
    "calculate_metrcis(0.0053, p_M1_YES_exg_7, p_M1_NO_exg_7)"
   ]
  },
  {
   "cell_type": "code",
   "execution_count": 21,
   "id": "8483157d-73aa-45e0-8b2d-b8bad3999aeb",
   "metadata": {},
   "outputs": [
    {
     "data": {
      "application/vnd.jupyter.widget-view+json": {
       "model_id": "3da82544d45941af9a142f53cf710152",
       "version_major": 2,
       "version_minor": 0
      },
      "text/plain": [
       "  0%|          | 0/2074 [00:00<?, ?it/s]"
      ]
     },
     "metadata": {},
     "output_type": "display_data"
    },
    {
     "name": "stdout",
     "output_type": "stream",
     "text": [
      "Computing probabilities\n"
     ]
    },
    {
     "data": {
      "application/vnd.jupyter.widget-view+json": {
       "model_id": "6d65a05e30ee42a1b19a4eb0f23307a9",
       "version_major": 2,
       "version_minor": 0
      },
      "text/plain": [
       "  0%|          | 0/4 [00:00<?, ?it/s]"
      ]
     },
     "metadata": {},
     "output_type": "display_data"
    },
    {
     "name": "stdout",
     "output_type": "stream",
     "text": [
      "Computing probabilities\n"
     ]
    },
    {
     "data": {
      "application/vnd.jupyter.widget-view+json": {
       "model_id": "80327e2bb7724b919628f045370c408e",
       "version_major": 2,
       "version_minor": 0
      },
      "text/plain": [
       "  0%|          | 0/100 [00:00<?, ?it/s]"
      ]
     },
     "metadata": {},
     "output_type": "display_data"
    }
   ],
   "source": [
    "p_M1_YES_exg_8, p_M1_NO_exg_8 = prepare_data(8, take_first_elements = 100)"
   ]
  },
  {
   "cell_type": "code",
   "execution_count": 33,
   "id": "915c4559-2442-4670-ada7-3cd142007e21",
   "metadata": {},
   "outputs": [
    {
     "data": {
      "text/plain": [
       "(0.9807692307692307, 1.0, 0.5, 0.6666666666666666)"
      ]
     },
     "execution_count": 33,
     "metadata": {},
     "output_type": "execute_result"
    }
   ],
   "source": [
    "calculate_metrcis(0.0053, p_M1_YES_exg_8, p_M1_NO_exg_8)"
   ]
  },
  {
   "cell_type": "code",
   "execution_count": 23,
   "id": "2ca8319f-9849-46a4-8ebb-1fc7e688da0d",
   "metadata": {},
   "outputs": [
    {
     "data": {
      "application/vnd.jupyter.widget-view+json": {
       "model_id": "6e4e7ac1c7744055a74afe8ebf106502",
       "version_major": 2,
       "version_minor": 0
      },
      "text/plain": [
       "  0%|          | 0/2329 [00:00<?, ?it/s]"
      ]
     },
     "metadata": {},
     "output_type": "display_data"
    },
    {
     "name": "stdout",
     "output_type": "stream",
     "text": [
      "Computing probabilities\n"
     ]
    },
    {
     "data": {
      "application/vnd.jupyter.widget-view+json": {
       "model_id": "ca3b588393854019ae958cafaef390b7",
       "version_major": 2,
       "version_minor": 0
      },
      "text/plain": [
       "  0%|          | 0/1 [00:00<?, ?it/s]"
      ]
     },
     "metadata": {},
     "output_type": "display_data"
    },
    {
     "name": "stdout",
     "output_type": "stream",
     "text": [
      "Computing probabilities\n"
     ]
    },
    {
     "data": {
      "application/vnd.jupyter.widget-view+json": {
       "model_id": "1abdf2ca29984b38b6bbbb2d0d1d833b",
       "version_major": 2,
       "version_minor": 0
      },
      "text/plain": [
       "  0%|          | 0/100 [00:00<?, ?it/s]"
      ]
     },
     "metadata": {},
     "output_type": "display_data"
    }
   ],
   "source": [
    "p_M1_YES_exg_9, p_M1_NO_exg_9 = prepare_data(9, take_first_elements = 100)"
   ]
  },
  {
   "cell_type": "code",
   "execution_count": 34,
   "id": "af1f10e2-fcaf-436e-9b72-d22255ec2e0d",
   "metadata": {},
   "outputs": [
    {
     "data": {
      "text/plain": [
       "(0.8514851485148515, 0.0625, 1.0, 0.11764705882352941)"
      ]
     },
     "execution_count": 34,
     "metadata": {},
     "output_type": "execute_result"
    }
   ],
   "source": [
    "calculate_metrcis(0.0048, p_M1_YES_exg_9, p_M1_NO_exg_9)"
   ]
  },
  {
   "cell_type": "code",
   "execution_count": 36,
   "id": "120ef57c-b6e8-475f-93c5-6b9f8e178fa3",
   "metadata": {},
   "outputs": [],
   "source": [
    "#p_M1=list()\n",
    "#for i in range(4,10):\n",
    "#    p_M1.append(prepare_data(i, take_first_elements = 10000))\n",
    "\n",
    "#calculate_metrcis(0.0047, p_M1[0][0], p_M1[0][1])\n",
    "#calculate_metrcis(0.0048, p_M1[1][0], p_M1[1][1])"
   ]
  },
  {
   "cell_type": "code",
   "execution_count": null,
   "id": "2570e999-54b8-415e-bdfb-8f556f286059",
   "metadata": {},
   "outputs": [],
   "source": []
  }
 ],
 "metadata": {
  "kernelspec": {
   "display_name": "Python 3 (ipykernel)",
   "language": "python",
   "name": "python3"
  },
  "language_info": {
   "codemirror_mode": {
    "name": "ipython",
    "version": 3
   },
   "file_extension": ".py",
   "mimetype": "text/x-python",
   "name": "python",
   "nbconvert_exporter": "python",
   "pygments_lexer": "ipython3",
   "version": "3.9.13"
  }
 },
 "nbformat": 4,
 "nbformat_minor": 5
}
