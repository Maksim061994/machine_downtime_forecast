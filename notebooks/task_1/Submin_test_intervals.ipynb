{
 "cells": [
  {
   "cell_type": "code",
   "execution_count": 1,
   "id": "e377d89b-6f94-4cfd-a5e7-843945235a26",
   "metadata": {},
   "outputs": [],
   "source": [
    "import pandas as pd\n",
    "import numpy as np\n",
    "import datetime\n",
    "import sklearn\n",
    "import matplotlib.pyplot as plt\n",
    "from tqdm.notebook import tqdm\n",
    "from scipy.special import boxcox1p\n",
    "from scipy.special import inv_boxcox1p\n",
    "import dask.dataframe as dd"
   ]
  },
  {
   "cell_type": "code",
   "execution_count": 2,
   "id": "1dd7e0fe-a355-40c5-86b5-523c51945911",
   "metadata": {},
   "outputs": [],
   "source": [
    "def find_nearest(array, value):\n",
    "    idx = (np.abs(array - value)).argmin()\n",
    "    return array[idx]\n",
    "\n",
    "def data_by_bins(y_test, y_preds, bins=20):   \n",
    "    y_test = pd.Series(y_test)\n",
    "    y_preds = pd.Series(y_preds)  \n",
    "    \n",
    "    intervals=list()\n",
    "    intervals.append(-np.inf)   \n",
    "    \n",
    "    print(\"Computing intervals\")\n",
    "    for i in tqdm(range(1, bins)):\n",
    "        intervals.append(y_preds.quantile(i / bins))        \n",
    "    intervals.append(np.inf)\n",
    "    \n",
    "    interval_data=list()\n",
    "    print(\"Collecting intervals data\")    \n",
    "    for i in tqdm(range(len(intervals)-1)):       \n",
    "        y_preds_interval_index = y_preds[(y_preds >= intervals[i]) & (y_preds <= intervals[i+1])].index \n",
    "        interval_data.append(np.array(y_test[y_preds_interval_index]))  \n",
    "        \n",
    "    return interval_data,intervals"
   ]
  },
  {
   "cell_type": "code",
   "execution_count": 3,
   "id": "66daf046-fc02-40ff-b977-ff937a443ca8",
   "metadata": {},
   "outputs": [],
   "source": [
    "test_intervals=pd.read_excel(\"data/Датасеты/test_intervals.xlsx\", header=0)\n",
    "test_intervals.start=pd.to_datetime(test_intervals.start)\n",
    "test_intervals.finish=pd.to_datetime(test_intervals.finish)"
   ]
  },
  {
   "cell_type": "code",
   "execution_count": 4,
   "id": "260d1a88-fddc-495a-a18f-abc4447d9bc7",
   "metadata": {},
   "outputs": [
    {
     "data": {
      "application/vnd.jupyter.widget-view+json": {
       "model_id": "457ca35a49254ad298f52006fbfd33fd",
       "version_major": 2,
       "version_minor": 0
      },
      "text/plain": [
       "  0%|          | 0/6 [00:00<?, ?it/s]"
      ]
     },
     "metadata": {},
     "output_type": "display_data"
    }
   ],
   "source": [
    "y_fact_test=pd.DataFrame()\n",
    "y_pred_test=pd.DataFrame()\n",
    "for i in tqdm(range(4,10)):\n",
    "    y_p=pd.read_csv(f\"pred_data/y_test_exg_{i}.csv\")\n",
    "    y_fact_test=pd.concat([y_fact_test,y_p],axis=0)\n",
    "    del y_p\n",
    "    y_t=pd.read_csv(f\"pred_data/y_preds_exg_{i}.csv\")\n",
    "    y_pred_test=pd.concat([y_pred_test,y_t],axis=0)\n",
    "    del y_t\n",
    "    \n",
    "y_pred_test[\"0\"]=boxcox1p(inv_boxcox1p(y_pred_test[\"0\"], 0.7)/60, 0.7)\n",
    "y_fact_test.y=boxcox1p(inv_boxcox1p(y_fact_test.y, 0.7)/60, 0.7)"
   ]
  },
  {
   "cell_type": "code",
   "execution_count": 5,
   "id": "422cdc05-55f0-444d-9e16-54196fd8b30f",
   "metadata": {},
   "outputs": [
    {
     "name": "stdout",
     "output_type": "stream",
     "text": [
      "Computing intervals\n"
     ]
    },
    {
     "data": {
      "application/vnd.jupyter.widget-view+json": {
       "model_id": "2bcff3481605419581c14a4422015282",
       "version_major": 2,
       "version_minor": 0
      },
      "text/plain": [
       "  0%|          | 0/19 [00:00<?, ?it/s]"
      ]
     },
     "metadata": {},
     "output_type": "display_data"
    },
    {
     "name": "stdout",
     "output_type": "stream",
     "text": [
      "Collecting intervals data\n"
     ]
    },
    {
     "data": {
      "application/vnd.jupyter.widget-view+json": {
       "model_id": "a78202d091b14d1db90548db5085a267",
       "version_major": 2,
       "version_minor": 0
      },
      "text/plain": [
       "  0%|          | 0/20 [00:00<?, ?it/s]"
      ]
     },
     "metadata": {},
     "output_type": "display_data"
    }
   ],
   "source": [
    "interval_data, intervals=data_by_bins(y_fact_test.y, y_pred_test[\"0\"], bins=20) "
   ]
  },
  {
   "cell_type": "code",
   "execution_count": 6,
   "id": "975d3e63-b336-4c3c-93c1-5aab12b1a661",
   "metadata": {},
   "outputs": [],
   "source": [
    "def make_intervals():\n",
    "    w=list()\n",
    "    for i in range(test_intervals.shape[0]):\n",
    "        w.append(test_intervals.finish.iloc[i].timestamp()-test_intervals.iloc[i].start.timestamp())\n",
    "    return test_intervals.start.tolist(),boxcox1p(np.array(w)/60, 0.7)"
   ]
  },
  {
   "cell_type": "code",
   "execution_count": 7,
   "id": "f630c490-bd73-4dab-89a0-67fc01d05728",
   "metadata": {},
   "outputs": [],
   "source": [
    "def find_tm(M3_vector, M3_counts, msg):\n",
    "    names=M3_vector[M3_vector==2].index\n",
    "    if len(names)==0:\n",
    "        tm=M3_counts.nlargest(1).index[0]\n",
    "    if len(names)==1:\n",
    "        tm=names[0]\n",
    "    if len(names)>1:\n",
    "        u=msg.НАЗВАНИЕ_ТЕХ_МЕСТА.tolist()     \n",
    "        tm=np.random.choice(u)\n",
    "    return tm"
   ]
  },
  {
   "cell_type": "code",
   "execution_count": 8,
   "id": "3fdb0eed-e953-4b11-a246-7151215560de",
   "metadata": {},
   "outputs": [],
   "source": [
    "def find_prob(model_prediction, horizon, intervals, interval_data):  \n",
    "    for i in range(len(intervals)):\n",
    "        if model_prediction < intervals[i]:              \n",
    "            break       \n",
    "    return (interval_data[i-1] <= horizon).sum() / interval_data[i-1].shape[0]\n",
    "\n",
    "def calculate_prob_by_interval(interv, horizons, y_preds, M3_preds, M3_counts, msg, interval_data, intervals, exg_number):\n",
    "    probs=list()\n",
    "    tms=list()\n",
    "    print(\"Computing probabilities exg № \", exg_number)   \n",
    "    for i in tqdm(range(len(interv))):\n",
    "        t=interv[i]-d_t\n",
    "        nearest_t=find_nearest(y_preds.date, t)\n",
    "        nearest_t_M3=find_nearest(M3_preds.DT, t)  \n",
    "        prediction=y_preds[f\"reg_preds_exg_{exg_number}\"][y_preds.date==nearest_t].iloc[0]\n",
    "        M3_vector=M3_preds[M3_preds.DT==nearest_t_M3].iloc[0]\n",
    "        tm=find_tm(M3_vector, M3_counts, msg)\n",
    "        #prediction=y_preds[f\"reg_preds_exg_{exg_number}\"][w.index]\n",
    "        prediction_to_minutes=boxcox1p(inv_boxcox1p(prediction, 0.7)/60, 0.7)\n",
    "\n",
    "        p=find_prob(prediction_to_minutes, horizons[i], intervals, interval_data) \n",
    "        #print(p,prediction_to_minutes)  \n",
    "        probs.append(p)\n",
    "        tms.append(tm)\n",
    "    return probs, tms"
   ]
  },
  {
   "cell_type": "code",
   "execution_count": 9,
   "id": "186343bc-038c-40d1-aad4-a1aa301ccb83",
   "metadata": {},
   "outputs": [],
   "source": [
    "def calculating_predictions(thresholder, y_preds, M3_preds, M3_counts, msg, exg_number):   \n",
    "    x_test_intervals, horizons = make_intervals()  \n",
    "    p_M1, tms = calculate_prob_by_interval(x_test_intervals, horizons, y_preds, M3_preds, M3_counts, msg, interval_data, intervals, exg_number)\n",
    "    res_predictions=(np.array(p_M1)>thresholder).astype(int)    \n",
    "    return res_predictions, p_M1, tms"
   ]
  },
  {
   "cell_type": "code",
   "execution_count": 10,
   "id": "c11cf68e-ecf0-4c4d-9713-ca3ab30a0d6b",
   "metadata": {
    "tags": []
   },
   "outputs": [
    {
     "name": "stdout",
     "output_type": "stream",
     "text": [
      "Computing probabilities exg №  4\n"
     ]
    },
    {
     "data": {
      "application/vnd.jupyter.widget-view+json": {
       "model_id": "59fc5d87e0af46138deabe70b38f3a95",
       "version_major": 2,
       "version_minor": 0
      },
      "text/plain": [
       "  0%|          | 0/189 [00:00<?, ?it/s]"
      ]
     },
     "metadata": {},
     "output_type": "display_data"
    },
    {
     "name": "stderr",
     "output_type": "stream",
     "text": [
      "/tmp/ipykernel_90457/3273592162.py:35: SettingWithCopyWarning: \n",
      "A value is trying to be set on a copy of a slice from a DataFrame\n",
      "\n",
      "See the caveats in the documentation: https://pandas.pydata.org/pandas-docs/stable/user_guide/indexing.html#returning-a-view-versus-a-copy\n",
      "  data[f\"tm\"].iloc[j]=np.nan\n"
     ]
    },
    {
     "name": "stdout",
     "output_type": "stream",
     "text": [
      "Computing probabilities exg №  5\n"
     ]
    },
    {
     "data": {
      "application/vnd.jupyter.widget-view+json": {
       "model_id": "360444c235b94e99ae83b56f9ed8bb29",
       "version_major": 2,
       "version_minor": 0
      },
      "text/plain": [
       "  0%|          | 0/189 [00:00<?, ?it/s]"
      ]
     },
     "metadata": {},
     "output_type": "display_data"
    },
    {
     "name": "stderr",
     "output_type": "stream",
     "text": [
      "/tmp/ipykernel_90457/3273592162.py:35: SettingWithCopyWarning: \n",
      "A value is trying to be set on a copy of a slice from a DataFrame\n",
      "\n",
      "See the caveats in the documentation: https://pandas.pydata.org/pandas-docs/stable/user_guide/indexing.html#returning-a-view-versus-a-copy\n",
      "  data[f\"tm\"].iloc[j]=np.nan\n"
     ]
    },
    {
     "name": "stdout",
     "output_type": "stream",
     "text": [
      "Computing probabilities exg №  6\n"
     ]
    },
    {
     "data": {
      "application/vnd.jupyter.widget-view+json": {
       "model_id": "76dcf428e5924148ad88aae75235b8fb",
       "version_major": 2,
       "version_minor": 0
      },
      "text/plain": [
       "  0%|          | 0/189 [00:00<?, ?it/s]"
      ]
     },
     "metadata": {},
     "output_type": "display_data"
    },
    {
     "name": "stderr",
     "output_type": "stream",
     "text": [
      "/tmp/ipykernel_90457/3273592162.py:35: SettingWithCopyWarning: \n",
      "A value is trying to be set on a copy of a slice from a DataFrame\n",
      "\n",
      "See the caveats in the documentation: https://pandas.pydata.org/pandas-docs/stable/user_guide/indexing.html#returning-a-view-versus-a-copy\n",
      "  data[f\"tm\"].iloc[j]=np.nan\n"
     ]
    },
    {
     "name": "stdout",
     "output_type": "stream",
     "text": [
      "Computing probabilities exg №  7\n"
     ]
    },
    {
     "data": {
      "application/vnd.jupyter.widget-view+json": {
       "model_id": "fdd0c045571e4b9f98d25044c8297d42",
       "version_major": 2,
       "version_minor": 0
      },
      "text/plain": [
       "  0%|          | 0/189 [00:00<?, ?it/s]"
      ]
     },
     "metadata": {},
     "output_type": "display_data"
    },
    {
     "name": "stderr",
     "output_type": "stream",
     "text": [
      "/tmp/ipykernel_90457/3273592162.py:35: SettingWithCopyWarning: \n",
      "A value is trying to be set on a copy of a slice from a DataFrame\n",
      "\n",
      "See the caveats in the documentation: https://pandas.pydata.org/pandas-docs/stable/user_guide/indexing.html#returning-a-view-versus-a-copy\n",
      "  data[f\"tm\"].iloc[j]=np.nan\n"
     ]
    },
    {
     "name": "stdout",
     "output_type": "stream",
     "text": [
      "Computing probabilities exg №  8\n"
     ]
    },
    {
     "data": {
      "application/vnd.jupyter.widget-view+json": {
       "model_id": "ee61758a8de84b7994eb8d2266814d02",
       "version_major": 2,
       "version_minor": 0
      },
      "text/plain": [
       "  0%|          | 0/189 [00:00<?, ?it/s]"
      ]
     },
     "metadata": {},
     "output_type": "display_data"
    },
    {
     "name": "stderr",
     "output_type": "stream",
     "text": [
      "/tmp/ipykernel_90457/3273592162.py:35: SettingWithCopyWarning: \n",
      "A value is trying to be set on a copy of a slice from a DataFrame\n",
      "\n",
      "See the caveats in the documentation: https://pandas.pydata.org/pandas-docs/stable/user_guide/indexing.html#returning-a-view-versus-a-copy\n",
      "  data[f\"tm\"].iloc[j]=np.nan\n"
     ]
    },
    {
     "name": "stdout",
     "output_type": "stream",
     "text": [
      "Computing probabilities exg №  9\n"
     ]
    },
    {
     "data": {
      "application/vnd.jupyter.widget-view+json": {
       "model_id": "f8830d8d17694dcbbea4b0f053735299",
       "version_major": 2,
       "version_minor": 0
      },
      "text/plain": [
       "  0%|          | 0/189 [00:00<?, ?it/s]"
      ]
     },
     "metadata": {},
     "output_type": "display_data"
    },
    {
     "name": "stderr",
     "output_type": "stream",
     "text": [
      "/tmp/ipykernel_90457/3273592162.py:35: SettingWithCopyWarning: \n",
      "A value is trying to be set on a copy of a slice from a DataFrame\n",
      "\n",
      "See the caveats in the documentation: https://pandas.pydata.org/pandas-docs/stable/user_guide/indexing.html#returning-a-view-versus-a-copy\n",
      "  data[f\"tm\"].iloc[j]=np.nan\n"
     ]
    }
   ],
   "source": [
    "results = []\n",
    "thresholder=[0.0048,0.005,0.0038,0.0053,0.0053,0.0048]\n",
    "\n",
    "delta=(test_intervals.finish-test_intervals.start).mean().seconds\n",
    "delta_minutes=delta/60\n",
    "d_t=datetime.timedelta(seconds=delta_minutes/2)\n",
    "\n",
    "messages=pd.read_excel(\"data/Датасеты/messages.xlsx\", header=0)\n",
    "\n",
    "for p in [4, 5, 6, 7, 8, 9]:\n",
    "    msg=messages[messages.ИМЯ_МАШИНЫ== f\"ЭКСГАУСТЕР А/М №{p}\"]\n",
    "    \n",
    "    y_preds = pd.read_csv(f\"submitions/reg_preds_exg_{p}.csv\")\n",
    "    y_preds.date=pd.to_datetime(y_preds.date)    \n",
    "    \n",
    "    y_train = dd.read_parquet('data/Датасеты/y_train.parquet', engine=\"pyarrow\") \n",
    "    y_cols=list()\n",
    "    for i in range(len(y_train.columns)):\n",
    "        if f'Y_ЭКСГАУСТЕР А/М №{p}' in y_train.columns[i]:\n",
    "            y_cols.append(y_train.columns[i])        \n",
    "    M3_counts=y_train[y_cols].sum().compute()\n",
    "    \n",
    "    M3_preds = pd.read_csv(f\"submitions/submit{p}_M3.csv\")\n",
    "    M3_preds.DT=pd.to_datetime(M3_preds.DT)\n",
    "    prob_results, probs, tms=calculating_predictions(thresholder[p-4], y_preds, M3_preds, M3_counts, msg, p)\n",
    "\n",
    "    data = pd.read_excel(\"data/Датасеты/test_intervals.xlsx\", header=0)\n",
    "    data.drop([\"Unnamed: 0\"], axis=1, inplace=True)\n",
    "    data[\"machine\"] = f\"ЭКСГАУСТЕР А/М №{p}\"\n",
    "    data[\"pred_label\"]=prob_results\n",
    "    data[\"pred_probabilities\"]=probs    \n",
    "    data[\"tm\"]=tms\n",
    "    for j in range(data.shape[0]):\n",
    "        if data[f\"pred_label\"].iloc[j] == 0:\n",
    "            data[f\"tm\"].iloc[j]=np.nan\n",
    "    data.to_csv(f\"submitions/results/submition_exg_{p}.csv\")"
   ]
  },
  {
   "cell_type": "code",
   "execution_count": null,
   "id": "1bef7bfb-55bb-4ca9-90b9-8f2410fb2429",
   "metadata": {},
   "outputs": [],
   "source": [
    "base_sumbit = pd.read_excel(\"submitions/submission_1.xlsx\")\n",
    "#base_sumbit.drop([\"Unnamed: 0\", \"machine\", \"tm\"], axis=1, inplace=True)\n",
    "\n",
    "#results.append(data)\n",
    "#results = pd.concat(results)\n",
    "# results[\"start\"] = pd.to_datetime(results.start)\n",
    "# results[\"finish\"] = pd.to_datetime(results.finish)\n",
    "# results = base_sumbit.merge(results[[\"start\", \"finish\", \"machine\"]], how=\"left\", left_on=[\"start\", \"finish\"], right_on=[\"start\", \"finish\"])\n",
    "# results[\"tm\"] = None\n",
    "# results.to_excel(\"submission_1.xlsx\")\n",
    "\n",
    "def find_tm_v2(M3_vector, M3_counts):\n",
    "    names=M3_vector[M3_vector==2].index\n",
    "    if len(names)==0:\n",
    "        tm=M3_counts.nlargest(1).index[0]\n",
    "    if len(names)==1:\n",
    "        tm=names[0]\n",
    "    if len(names)>1:\n",
    "        for i in range(len(M3_counts)):\n",
    "            if M3_counts.nlargest(M3_counts.shape[0]).index[i] in names:\n",
    "                break\n",
    "        tm=M3_counts.nlargest(M3_counts.shape[0]).index[i]\n",
    "    return tm"
   ]
  }
 ],
 "metadata": {
  "kernelspec": {
   "display_name": "Python 3 (ipykernel)",
   "language": "python",
   "name": "python3"
  },
  "language_info": {
   "codemirror_mode": {
    "name": "ipython",
    "version": 3
   },
   "file_extension": ".py",
   "mimetype": "text/x-python",
   "name": "python",
   "nbconvert_exporter": "python",
   "pygments_lexer": "ipython3",
   "version": "3.9.13"
  }
 },
 "nbformat": 4,
 "nbformat_minor": 5
}
