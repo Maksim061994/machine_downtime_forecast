{
 "cells": [
  {
   "cell_type": "code",
   "execution_count": 3,
   "id": "11a285f5-4f6f-419c-815d-323331937299",
   "metadata": {},
   "outputs": [
    {
     "name": "stdout",
     "output_type": "stream",
     "text": [
      "Requirement already satisfied: openpyxl in /opt/conda/lib/python3.9/site-packages (3.1.2)\n",
      "Requirement already satisfied: et-xmlfile in /opt/conda/lib/python3.9/site-packages (from openpyxl) (1.1.0)\n",
      "\n",
      "\u001b[1m[\u001b[0m\u001b[34;49mnotice\u001b[0m\u001b[1;39;49m]\u001b[0m\u001b[39;49m A new release of pip is available: \u001b[0m\u001b[31;49m23.0.1\u001b[0m\u001b[39;49m -> \u001b[0m\u001b[32;49m23.1.2\u001b[0m\n",
      "\u001b[1m[\u001b[0m\u001b[34;49mnotice\u001b[0m\u001b[1;39;49m]\u001b[0m\u001b[39;49m To update, run: \u001b[0m\u001b[32;49mpip install --upgrade pip\u001b[0m\n"
     ]
    }
   ],
   "source": [
    "!pip install openpyxl"
   ]
  },
  {
   "cell_type": "code",
   "execution_count": 156,
   "id": "40ba54a9-bbfe-4c94-ae68-2270375fbdd5",
   "metadata": {},
   "outputs": [],
   "source": [
    "import numpy as np\n",
    "import pandas as pd\n",
    "import dask.dataframe as dd\n",
    "\n",
    "import matplotlib.pyplot as plt\n",
    "from tqdm.notebook import tqdm\n",
    "\n",
    "from sklearn.preprocessing import MinMaxScaler\n",
    "from sklearn.model_selection import train_test_split\n",
    "\n",
    "import torch\n",
    "import torch.nn as nn\n",
    "import torch.nn.functional as F\n",
    "from torch import optim\n",
    "from torch.utils.data import TensorDataset, DataLoader\n",
    "\n",
    "PATH_TO_TEST_DATA = 'X_test.parquet'\n",
    "PATH_TO_TEST_INTERVALS = 'test_intervals.xlsx'"
   ]
  },
  {
   "cell_type": "code",
   "execution_count": 2,
   "id": "e3a3bb53-35ca-467f-a359-9e25066cffeb",
   "metadata": {},
   "outputs": [],
   "source": [
    "class _SepConv1d(nn.Module):\n",
    "    \"\"\"A simple separable convolution implementation.\n",
    "    \n",
    "    The separable convlution is a method to reduce number of the parameters \n",
    "    in the deep learning network for slight decrease in predictions quality.\n",
    "    \"\"\"\n",
    "    def __init__(self, ni, no, kernel, stride, pad):\n",
    "        super().__init__()\n",
    "        self.depthwise = nn.Conv1d(ni, ni, kernel, stride, padding=pad, groups=ni)\n",
    "        self.pointwise = nn.Conv1d(ni, no, kernel_size=1)\n",
    "\n",
    "    def forward(self, x):\n",
    "        return self.pointwise(self.depthwise(x))\n",
    "    \n",
    "class SepConv1d(nn.Module):\n",
    "    \"\"\"Implementes a 1-d convolution with 'batteries included'.\n",
    "    \n",
    "    The module adds (optionally) activation function and dropout layers right after\n",
    "    a separable convolution layer.\n",
    "    \"\"\"\n",
    "    def __init__(self, ni, no, kernel, stride, pad, drop=None,\n",
    "                 activ=lambda: nn.ReLU(inplace=True)):\n",
    "    \n",
    "        super().__init__()\n",
    "        assert drop is None or (0.0 < drop < 1.0)\n",
    "        layers = [_SepConv1d(ni, no, kernel, stride, pad)]\n",
    "        if activ:\n",
    "            layers.append(activ())\n",
    "        if drop is not None:\n",
    "            layers.append(nn.Dropout(drop))\n",
    "        self.layers = nn.Sequential(*layers)\n",
    "        \n",
    "    def forward(self, x): \n",
    "        return self.layers(x)\n",
    "\n",
    "class Flatten(nn.Module):\n",
    "    \"\"\"Converts N-dimensional tensor into 'flat' one.\"\"\"\n",
    "\n",
    "    def __init__(self, keep_batch_dim=True):\n",
    "        super().__init__()\n",
    "        self.keep_batch_dim = keep_batch_dim\n",
    "\n",
    "    def forward(self, x):\n",
    "        if self.keep_batch_dim:\n",
    "            return x.transpose(1, 0)\n",
    "        return x.transpose(1, 0)"
   ]
  },
  {
   "cell_type": "code",
   "execution_count": 3,
   "id": "fc67fa0f-646b-416f-945f-8cafccae6b7b",
   "metadata": {},
   "outputs": [],
   "source": [
    "class Classifier(nn.Module):\n",
    "    def __init__(self, raw_ni, fft_ni, no, drop=.5):\n",
    "        super().__init__()\n",
    "        \n",
    "        self.raw = nn.Sequential(\n",
    "            SepConv1d(    raw_ni,  32, 7, 2, 3, drop=drop),\n",
    "            SepConv1d(    32,  64, 5, 4, 2, drop=drop),\n",
    "            SepConv1d(    64, 128, 5, 4, 2, drop=drop),\n",
    "            SepConv1d(   128, 256, 5, 4, 2),\n",
    "            nn.Flatten(),\n",
    "            nn.Dropout(drop), nn.Linear(256, 128), nn.PReLU(), nn.BatchNorm1d(128),\n",
    "            nn.Dropout(drop), nn.Linear(128, 64), nn.PReLU(), nn.BatchNorm1d(64))\n",
    "        \n",
    "        self.fft = nn.Sequential(\n",
    "            SepConv1d(    fft_ni,  32, 7, 2, 3, drop=drop),\n",
    "            SepConv1d(    32,  64, 5, 4, 2, drop=drop),\n",
    "            SepConv1d(    64, 128, 5, 4, 2, drop=drop),\n",
    "            SepConv1d(   128, 256, 5, 4, 2),\n",
    "            nn.Flatten(),\n",
    "            nn.Dropout(drop), nn.Linear(256, 128), nn.PReLU(), nn.BatchNorm1d(128),\n",
    "            nn.Dropout(drop), nn.Linear(128, 64), nn.PReLU(), nn.BatchNorm1d(64))\n",
    "        \n",
    "\n",
    "        self.out1 = nn.Sequential(\n",
    "            nn.Linear(128, 512), nn.ReLU(inplace=True), nn.Linear(512, 128), nn.ReLU(inplace=True), nn.Linear(128, no))\n",
    "\n",
    "    def forward(self, t_raw, t_fft):\n",
    "        raw_out = self.raw(t_raw)\n",
    "        fft_out = self.fft(t_fft)\n",
    "        t_in = torch.cat([raw_out, fft_out], dim=1)        \n",
    "        out1 = self.out1(t_in)\n",
    "        return out1"
   ]
  },
  {
   "cell_type": "code",
   "execution_count": 4,
   "id": "dabc5d86-19cb-407d-b59f-2c441aa505d3",
   "metadata": {},
   "outputs": [],
   "source": [
    "def preprocess_data(series):\n",
    "    '''\n",
    "        На входу получает историю для одной фичи, данные нормируются от 0 до 1, пропущенные значение интерполируются\n",
    "    '''\n",
    "    data = pd.Series(series.values)\n",
    "    \n",
    "    inter_data= data.interpolate()\n",
    "\n",
    "    np_data = np.array(inter_data)\n",
    "    values = np_data.reshape((len(np_data), 1))\n",
    "    # train the normalization\n",
    "    scaler = MinMaxScaler(feature_range=(0, 1))\n",
    "    scaler = scaler.fit(values)\n",
    "    # normalize the dataset and print the first 5 rows\n",
    "    norm_inter_data = scaler.transform(values)\n",
    "    \n",
    "    return norm_inter_data\n",
    "\n",
    "def preprocess_dataset(dataset):\n",
    "    \n",
    "    list_columns = list(dataset.columns)\n",
    "    index_columns = list(dataset.index)\n",
    "    \n",
    "    df_prep = pd.DataFrame(columns=list_columns, index = index_columns)\n",
    "    \n",
    "    for i in list_columns:\n",
    "        current_data = preprocess_data(dataset[i])\n",
    "        df_prep[i] = current_data\n",
    "    return df_prep"
   ]
  },
  {
   "cell_type": "code",
   "execution_count": 5,
   "id": "40428158-9df2-45ef-b8a8-45d96f8aef6c",
   "metadata": {},
   "outputs": [
    {
     "name": "stdout",
     "output_type": "stream",
     "text": [
      "data saved\n"
     ]
    }
   ],
   "source": [
    "data_test = dd.read_parquet(PATH_TO_TEST_DATA, engine=\"pyarrow\")\n",
    "\n",
    "data_test = data_test.compute()\n",
    "print('data saved')"
   ]
  },
  {
   "cell_type": "code",
   "execution_count": 6,
   "id": "341df404-3182-40e6-b260-3cdd7ae290c4",
   "metadata": {},
   "outputs": [],
   "source": [
    "data_test = data_test.iloc[:,:16]"
   ]
  },
  {
   "cell_type": "code",
   "execution_count": 7,
   "id": "c5e8ce04-a0af-4be2-85a0-155d3d8c523a",
   "metadata": {},
   "outputs": [],
   "source": [
    "X_test = preprocess_dataset(data_test)"
   ]
  },
  {
   "cell_type": "code",
   "execution_count": 8,
   "id": "40926854-4a7f-4e72-af5b-830e3727c5d3",
   "metadata": {},
   "outputs": [],
   "source": [
    "X_test.fillna(method=\"bfill\", inplace = True)"
   ]
  },
  {
   "cell_type": "code",
   "execution_count": 9,
   "id": "9633c986-effc-4f2d-aaf6-14e49f295519",
   "metadata": {},
   "outputs": [
    {
     "data": {
      "text/html": [
       "<div>\n",
       "<style scoped>\n",
       "    .dataframe tbody tr th:only-of-type {\n",
       "        vertical-align: middle;\n",
       "    }\n",
       "\n",
       "    .dataframe tbody tr th {\n",
       "        vertical-align: top;\n",
       "    }\n",
       "\n",
       "    .dataframe thead th {\n",
       "        text-align: right;\n",
       "    }\n",
       "</style>\n",
       "<table border=\"1\" class=\"dataframe\">\n",
       "  <thead>\n",
       "    <tr style=\"text-align: right;\">\n",
       "      <th></th>\n",
       "      <th>ЭКСГАУСТЕР 4. ТОК РОТОРА 1</th>\n",
       "      <th>ЭКСГАУСТЕР 4. ТОК РОТОРА2</th>\n",
       "      <th>ЭКСГАУСТЕР 4. ТОК СТАТОРА</th>\n",
       "      <th>ЭКСГАУСТЕР 4. ДАВЛЕНИЕ МАСЛА В СИСТЕМЕ</th>\n",
       "      <th>ЭКСГАУСТЕР 4. ТЕМПЕРАТУРА ПОДШИПНИКА НА ОПОРЕ 1</th>\n",
       "      <th>ЭКСГАУСТЕР 4. ТЕМПЕРАТУРА ПОДШИПНИКА НА ОПОРЕ 2</th>\n",
       "      <th>ЭКСГАУСТЕР 4. ТЕМПЕРАТУРА ПОДШИПНИКА НА ОПОРЕ 3</th>\n",
       "      <th>ЭКСГАУСТЕР 4. ТЕМПЕРАТУРА ПОДШИПНИКА НА ОПОРЕ 4</th>\n",
       "      <th>ЭКСГАУСТЕР 4. ТЕМПЕРАТУРА МАСЛА В СИСТЕМЕ</th>\n",
       "      <th>ЭКСГАУСТЕР 4. ТЕМПЕРАТУРА МАСЛА В МАСЛОБЛОКЕ</th>\n",
       "      <th>ЭКСГАУСТЕР 4. ВИБРАЦИЯ НА ОПОРЕ 1</th>\n",
       "      <th>ЭКСГАУСТЕР 4. ВИБРАЦИЯ НА ОПОРЕ 2</th>\n",
       "      <th>ЭКСГАУСТЕР 4. ВИБРАЦИЯ НА ОПОРЕ 3</th>\n",
       "      <th>ЭКСГАУСТЕР 4. ВИБРАЦИЯ НА ОПОРЕ 3. ПРОДОЛЬНАЯ.</th>\n",
       "      <th>ЭКСГАУСТЕР 4. ВИБРАЦИЯ НА ОПОРЕ 4</th>\n",
       "      <th>ЭКСГАУСТЕР 4. ВИБРАЦИЯ НА ОПОРЕ 4. ПРОДОЛЬНАЯ.</th>\n",
       "    </tr>\n",
       "  </thead>\n",
       "  <tbody>\n",
       "    <tr>\n",
       "      <th>2022-01-01 00:00:00</th>\n",
       "      <td>0.925756</td>\n",
       "      <td>0.925756</td>\n",
       "      <td>0.045268</td>\n",
       "      <td>0.46898</td>\n",
       "      <td>0.846354</td>\n",
       "      <td>0.912500</td>\n",
       "      <td>0.856610</td>\n",
       "      <td>0.859533</td>\n",
       "      <td>0.068821</td>\n",
       "      <td>0.8588</td>\n",
       "      <td>0.024667</td>\n",
       "      <td>0.0120</td>\n",
       "      <td>0.0036</td>\n",
       "      <td>0.062667</td>\n",
       "      <td>0.783077</td>\n",
       "      <td>0.060333</td>\n",
       "    </tr>\n",
       "    <tr>\n",
       "      <th>2022-01-01 00:00:10</th>\n",
       "      <td>0.926130</td>\n",
       "      <td>0.926130</td>\n",
       "      <td>0.045357</td>\n",
       "      <td>0.46921</td>\n",
       "      <td>0.846354</td>\n",
       "      <td>0.907360</td>\n",
       "      <td>0.856610</td>\n",
       "      <td>0.864726</td>\n",
       "      <td>0.068821</td>\n",
       "      <td>0.8588</td>\n",
       "      <td>0.025333</td>\n",
       "      <td>0.0116</td>\n",
       "      <td>0.0036</td>\n",
       "      <td>0.062667</td>\n",
       "      <td>0.782615</td>\n",
       "      <td>0.046333</td>\n",
       "    </tr>\n",
       "    <tr>\n",
       "      <th>2022-01-01 00:00:20</th>\n",
       "      <td>0.926504</td>\n",
       "      <td>0.926504</td>\n",
       "      <td>0.044777</td>\n",
       "      <td>0.46944</td>\n",
       "      <td>0.845156</td>\n",
       "      <td>0.908645</td>\n",
       "      <td>0.857670</td>\n",
       "      <td>0.859533</td>\n",
       "      <td>0.068821</td>\n",
       "      <td>0.8588</td>\n",
       "      <td>0.024333</td>\n",
       "      <td>0.0115</td>\n",
       "      <td>0.0037</td>\n",
       "      <td>0.063000</td>\n",
       "      <td>0.787769</td>\n",
       "      <td>0.041000</td>\n",
       "    </tr>\n",
       "    <tr>\n",
       "      <th>2022-01-01 00:00:30</th>\n",
       "      <td>0.925756</td>\n",
       "      <td>0.925756</td>\n",
       "      <td>0.045357</td>\n",
       "      <td>0.46852</td>\n",
       "      <td>0.843957</td>\n",
       "      <td>0.909930</td>\n",
       "      <td>0.858731</td>\n",
       "      <td>0.864726</td>\n",
       "      <td>0.068821</td>\n",
       "      <td>0.8588</td>\n",
       "      <td>0.025333</td>\n",
       "      <td>0.0116</td>\n",
       "      <td>0.0035</td>\n",
       "      <td>0.069667</td>\n",
       "      <td>0.789692</td>\n",
       "      <td>0.049667</td>\n",
       "    </tr>\n",
       "    <tr>\n",
       "      <th>2022-01-01 00:00:40</th>\n",
       "      <td>0.925007</td>\n",
       "      <td>0.925007</td>\n",
       "      <td>0.045082</td>\n",
       "      <td>0.46898</td>\n",
       "      <td>0.842759</td>\n",
       "      <td>0.911215</td>\n",
       "      <td>0.859792</td>\n",
       "      <td>0.862130</td>\n",
       "      <td>0.068821</td>\n",
       "      <td>0.8588</td>\n",
       "      <td>0.028000</td>\n",
       "      <td>0.0122</td>\n",
       "      <td>0.0036</td>\n",
       "      <td>0.059333</td>\n",
       "      <td>0.779846</td>\n",
       "      <td>0.043333</td>\n",
       "    </tr>\n",
       "  </tbody>\n",
       "</table>\n",
       "</div>"
      ],
      "text/plain": [
       "                     ЭКСГАУСТЕР 4. ТОК РОТОРА 1  ЭКСГАУСТЕР 4. ТОК РОТОРА2  \\\n",
       "2022-01-01 00:00:00                    0.925756                   0.925756   \n",
       "2022-01-01 00:00:10                    0.926130                   0.926130   \n",
       "2022-01-01 00:00:20                    0.926504                   0.926504   \n",
       "2022-01-01 00:00:30                    0.925756                   0.925756   \n",
       "2022-01-01 00:00:40                    0.925007                   0.925007   \n",
       "\n",
       "                     ЭКСГАУСТЕР 4. ТОК СТАТОРА  \\\n",
       "2022-01-01 00:00:00                   0.045268   \n",
       "2022-01-01 00:00:10                   0.045357   \n",
       "2022-01-01 00:00:20                   0.044777   \n",
       "2022-01-01 00:00:30                   0.045357   \n",
       "2022-01-01 00:00:40                   0.045082   \n",
       "\n",
       "                     ЭКСГАУСТЕР 4. ДАВЛЕНИЕ МАСЛА В СИСТЕМЕ  \\\n",
       "2022-01-01 00:00:00                                 0.46898   \n",
       "2022-01-01 00:00:10                                 0.46921   \n",
       "2022-01-01 00:00:20                                 0.46944   \n",
       "2022-01-01 00:00:30                                 0.46852   \n",
       "2022-01-01 00:00:40                                 0.46898   \n",
       "\n",
       "                     ЭКСГАУСТЕР 4. ТЕМПЕРАТУРА ПОДШИПНИКА НА ОПОРЕ 1  \\\n",
       "2022-01-01 00:00:00                                         0.846354   \n",
       "2022-01-01 00:00:10                                         0.846354   \n",
       "2022-01-01 00:00:20                                         0.845156   \n",
       "2022-01-01 00:00:30                                         0.843957   \n",
       "2022-01-01 00:00:40                                         0.842759   \n",
       "\n",
       "                     ЭКСГАУСТЕР 4. ТЕМПЕРАТУРА ПОДШИПНИКА НА ОПОРЕ 2  \\\n",
       "2022-01-01 00:00:00                                         0.912500   \n",
       "2022-01-01 00:00:10                                         0.907360   \n",
       "2022-01-01 00:00:20                                         0.908645   \n",
       "2022-01-01 00:00:30                                         0.909930   \n",
       "2022-01-01 00:00:40                                         0.911215   \n",
       "\n",
       "                     ЭКСГАУСТЕР 4. ТЕМПЕРАТУРА ПОДШИПНИКА НА ОПОРЕ 3  \\\n",
       "2022-01-01 00:00:00                                         0.856610   \n",
       "2022-01-01 00:00:10                                         0.856610   \n",
       "2022-01-01 00:00:20                                         0.857670   \n",
       "2022-01-01 00:00:30                                         0.858731   \n",
       "2022-01-01 00:00:40                                         0.859792   \n",
       "\n",
       "                     ЭКСГАУСТЕР 4. ТЕМПЕРАТУРА ПОДШИПНИКА НА ОПОРЕ 4  \\\n",
       "2022-01-01 00:00:00                                         0.859533   \n",
       "2022-01-01 00:00:10                                         0.864726   \n",
       "2022-01-01 00:00:20                                         0.859533   \n",
       "2022-01-01 00:00:30                                         0.864726   \n",
       "2022-01-01 00:00:40                                         0.862130   \n",
       "\n",
       "                     ЭКСГАУСТЕР 4. ТЕМПЕРАТУРА МАСЛА В СИСТЕМЕ  \\\n",
       "2022-01-01 00:00:00                                   0.068821   \n",
       "2022-01-01 00:00:10                                   0.068821   \n",
       "2022-01-01 00:00:20                                   0.068821   \n",
       "2022-01-01 00:00:30                                   0.068821   \n",
       "2022-01-01 00:00:40                                   0.068821   \n",
       "\n",
       "                     ЭКСГАУСТЕР 4. ТЕМПЕРАТУРА МАСЛА В МАСЛОБЛОКЕ  \\\n",
       "2022-01-01 00:00:00                                        0.8588   \n",
       "2022-01-01 00:00:10                                        0.8588   \n",
       "2022-01-01 00:00:20                                        0.8588   \n",
       "2022-01-01 00:00:30                                        0.8588   \n",
       "2022-01-01 00:00:40                                        0.8588   \n",
       "\n",
       "                     ЭКСГАУСТЕР 4. ВИБРАЦИЯ НА ОПОРЕ 1  \\\n",
       "2022-01-01 00:00:00                           0.024667   \n",
       "2022-01-01 00:00:10                           0.025333   \n",
       "2022-01-01 00:00:20                           0.024333   \n",
       "2022-01-01 00:00:30                           0.025333   \n",
       "2022-01-01 00:00:40                           0.028000   \n",
       "\n",
       "                     ЭКСГАУСТЕР 4. ВИБРАЦИЯ НА ОПОРЕ 2  \\\n",
       "2022-01-01 00:00:00                             0.0120   \n",
       "2022-01-01 00:00:10                             0.0116   \n",
       "2022-01-01 00:00:20                             0.0115   \n",
       "2022-01-01 00:00:30                             0.0116   \n",
       "2022-01-01 00:00:40                             0.0122   \n",
       "\n",
       "                     ЭКСГАУСТЕР 4. ВИБРАЦИЯ НА ОПОРЕ 3  \\\n",
       "2022-01-01 00:00:00                             0.0036   \n",
       "2022-01-01 00:00:10                             0.0036   \n",
       "2022-01-01 00:00:20                             0.0037   \n",
       "2022-01-01 00:00:30                             0.0035   \n",
       "2022-01-01 00:00:40                             0.0036   \n",
       "\n",
       "                     ЭКСГАУСТЕР 4. ВИБРАЦИЯ НА ОПОРЕ 3. ПРОДОЛЬНАЯ.  \\\n",
       "2022-01-01 00:00:00                                        0.062667   \n",
       "2022-01-01 00:00:10                                        0.062667   \n",
       "2022-01-01 00:00:20                                        0.063000   \n",
       "2022-01-01 00:00:30                                        0.069667   \n",
       "2022-01-01 00:00:40                                        0.059333   \n",
       "\n",
       "                     ЭКСГАУСТЕР 4. ВИБРАЦИЯ НА ОПОРЕ 4  \\\n",
       "2022-01-01 00:00:00                           0.783077   \n",
       "2022-01-01 00:00:10                           0.782615   \n",
       "2022-01-01 00:00:20                           0.787769   \n",
       "2022-01-01 00:00:30                           0.789692   \n",
       "2022-01-01 00:00:40                           0.779846   \n",
       "\n",
       "                     ЭКСГАУСТЕР 4. ВИБРАЦИЯ НА ОПОРЕ 4. ПРОДОЛЬНАЯ.  \n",
       "2022-01-01 00:00:00                                        0.060333  \n",
       "2022-01-01 00:00:10                                        0.046333  \n",
       "2022-01-01 00:00:20                                        0.041000  \n",
       "2022-01-01 00:00:30                                        0.049667  \n",
       "2022-01-01 00:00:40                                        0.043333  "
      ]
     },
     "execution_count": 9,
     "metadata": {},
     "output_type": "execute_result"
    }
   ],
   "source": [
    "X_test.head(5)"
   ]
  },
  {
   "cell_type": "code",
   "execution_count": 10,
   "id": "d93f87e7-f5ce-4cbc-a3d3-b7b16a844999",
   "metadata": {},
   "outputs": [],
   "source": [
    "def absfft(x):\n",
    "    return np.abs(np.fft.fft(x))\n",
    "\n",
    "feat_fft_array = np.copy(X_test)\n",
    "feat_fft_array = np.apply_along_axis(absfft, 1, feat_fft_array)"
   ]
  },
  {
   "cell_type": "code",
   "execution_count": 11,
   "id": "327e002a-ae57-4c2c-b4a2-5d01ac4d0b94",
   "metadata": {},
   "outputs": [],
   "source": [
    "device = 'cuda:3'\n",
    "raw_feat = 16\n",
    "fft_feat = 16\n",
    "num_classes = 23"
   ]
  },
  {
   "cell_type": "code",
   "execution_count": 12,
   "id": "c4479ba3-5097-4320-a8b8-ca12f4040e4d",
   "metadata": {
    "tags": []
   },
   "outputs": [],
   "source": [
    "model_load = Classifier(raw_feat, fft_feat, num_classes).to(device)\n",
    "\n",
    "model_load.load_state_dict(torch.load('Ex4_M3'))\n",
    "model_load = model_load.to(device)"
   ]
  },
  {
   "cell_type": "code",
   "execution_count": 13,
   "id": "13753866-8f0c-4ef2-a90b-2396cb9b9c5b",
   "metadata": {},
   "outputs": [],
   "source": [
    "def prediction(model_out):\n",
    "    \n",
    "    sigmoid_prob = torch.sigmoid(model_out)\n",
    "    y_pred = torch.as_tensor((sigmoid_prob - 0.5) > 0, dtype=torch.int32)\n",
    "    \n",
    "    return np.array(y_pred.cpu())"
   ]
  },
  {
   "cell_type": "code",
   "execution_count": 14,
   "id": "bc24b072-065a-419b-8003-e7ed62ff080b",
   "metadata": {
    "tags": []
   },
   "outputs": [],
   "source": [
    "X_tensor = torch.tensor(X_test.values)\n",
    "feat_fft_tensor = torch.tensor(feat_fft_array)"
   ]
  },
  {
   "cell_type": "code",
   "execution_count": 15,
   "id": "056db182-a2af-47fe-9c0d-4a95df32cd57",
   "metadata": {},
   "outputs": [],
   "source": [
    "X_tensor = X_tensor.clone().detach()\n",
    "feat_fft_tensor = feat_fft_tensor.clone().detach()\n",
    "\n",
    "X_tensor = X_tensor.float()\n",
    "feat_fft_tensor = feat_fft_tensor.float()\n",
    "\n",
    "X_tensor = X_tensor.to(device)\n",
    "feat_fft_tensor = feat_fft_tensor.to(device)"
   ]
  },
  {
   "cell_type": "code",
   "execution_count": 16,
   "id": "98b09834-2b33-4bb4-ae0c-1dff1e58e3db",
   "metadata": {},
   "outputs": [
    {
     "data": {
      "text/plain": [
       "torch.Size([4008961, 16])"
      ]
     },
     "execution_count": 16,
     "metadata": {},
     "output_type": "execute_result"
    }
   ],
   "source": [
    "X_tensor.shape"
   ]
  },
  {
   "cell_type": "code",
   "execution_count": 17,
   "id": "82051798-d63c-4399-8a5a-8f943b8c54a7",
   "metadata": {
    "tags": []
   },
   "outputs": [],
   "source": [
    "X_tensor1 = X_tensor[:1008961,:,None]\n",
    "feat_fft_tensor1 = feat_fft_tensor[:1008961,:,None]\n",
    "\n",
    "out = model_load(X_tensor1, feat_fft_tensor1)\n",
    "\n",
    "answer1 = prediction(out)"
   ]
  },
  {
   "cell_type": "code",
   "execution_count": 21,
   "id": "560c58db-af16-42f8-ac3c-9b6f0b9a5227",
   "metadata": {},
   "outputs": [],
   "source": [
    "device = 'cuda:2'\n",
    "model_load = model_load.to(device)\n",
    "X_tensor = X_tensor.to(device)\n",
    "feat_fft_tensor = feat_fft_tensor.to(device)"
   ]
  },
  {
   "cell_type": "code",
   "execution_count": 22,
   "id": "318f3bcb-4a13-44ff-8fcc-be4fbf6a7ba7",
   "metadata": {
    "tags": []
   },
   "outputs": [],
   "source": [
    "X_tensor2 = X_tensor[1008961:2008961,:,None]\n",
    "feat_fft_tensor2 = feat_fft_tensor[1008961:2008961,:,None]\n",
    "\n",
    "out = model_load(X_tensor2, feat_fft_tensor2)\n",
    "\n",
    "answer2 = prediction(out)"
   ]
  },
  {
   "cell_type": "code",
   "execution_count": 25,
   "id": "e66db182-0b92-401b-9791-aa6928a5a8e9",
   "metadata": {},
   "outputs": [],
   "source": [
    "device = 'cuda:1'\n",
    "model_load = model_load.to(device)\n",
    "X_tensor = X_tensor.to(device)\n",
    "feat_fft_tensor = feat_fft_tensor.to(device)"
   ]
  },
  {
   "cell_type": "code",
   "execution_count": 26,
   "id": "35be7eb6-c7c0-4db2-a976-8a71f378683d",
   "metadata": {},
   "outputs": [],
   "source": [
    "X_tensor3 = X_tensor[2008961:3008961,:,None]\n",
    "feat_fft_tensor3 = feat_fft_tensor[2008961:3008961,:,None]\n",
    "\n",
    "out = model_load(X_tensor3, feat_fft_tensor3)\n",
    "\n",
    "answer3 = prediction(out)"
   ]
  },
  {
   "cell_type": "code",
   "execution_count": 27,
   "id": "dbf88875-f745-4dd5-9e85-2327f54d38dd",
   "metadata": {},
   "outputs": [],
   "source": [
    "device = 'cuda:0'\n",
    "model_load = model_load.to(device)\n",
    "X_tensor = X_tensor.to(device)\n",
    "feat_fft_tensor = feat_fft_tensor.to(device)"
   ]
  },
  {
   "cell_type": "code",
   "execution_count": 28,
   "id": "70583fd2-eeb3-424a-a3ff-250c741c5da1",
   "metadata": {},
   "outputs": [],
   "source": [
    "X_tensor4 = X_tensor[3008961:,:,None]\n",
    "feat_fft_tensor4 = feat_fft_tensor[3008961:,:,None]\n",
    "\n",
    "out = model_load(X_tensor4, feat_fft_tensor4)\n",
    "\n",
    "answer4 = prediction(out)"
   ]
  },
  {
   "cell_type": "code",
   "execution_count": 32,
   "id": "f56e5ca9-28f7-491d-a86c-c6a08042a265",
   "metadata": {},
   "outputs": [],
   "source": [
    "answer = np.concatenate((answer1, answer2, answer3, answer4))"
   ]
  },
  {
   "cell_type": "code",
   "execution_count": 35,
   "id": "5848985a-58da-4779-ba3c-af6d2c65183b",
   "metadata": {},
   "outputs": [],
   "source": [
    "predict_M3 = answer"
   ]
  },
  {
   "cell_type": "code",
   "execution_count": 37,
   "id": "ee57efb5-ee52-4e81-8462-8c5d82d9d665",
   "metadata": {},
   "outputs": [],
   "source": [
    "with open('test.npy', 'wb') as f:\n",
    "    np.save(f, predict_M3)"
   ]
  },
  {
   "cell_type": "code",
   "execution_count": 2,
   "id": "8ff29a4b-2b41-4ceb-b1af-c2a8ba0d55c4",
   "metadata": {},
   "outputs": [],
   "source": [
    "with open('test.npy', 'rb') as f:\n",
    "    tt = np.load(f)"
   ]
  },
  {
   "cell_type": "code",
   "execution_count": 3,
   "id": "29e11f73-e04f-4a44-b187-b664f9b77a40",
   "metadata": {},
   "outputs": [
    {
     "data": {
      "text/plain": [
       "array([[1, 0, 1, ..., 0, 0, 0],\n",
       "       [1, 0, 1, ..., 0, 0, 0],\n",
       "       [1, 0, 1, ..., 0, 0, 0],\n",
       "       ...,\n",
       "       [1, 0, 1, ..., 0, 0, 0],\n",
       "       [1, 0, 1, ..., 0, 0, 0],\n",
       "       [1, 0, 1, ..., 0, 0, 0]], dtype=int32)"
      ]
     },
     "execution_count": 3,
     "metadata": {},
     "output_type": "execute_result"
    }
   ],
   "source": [
    "tt"
   ]
  },
  {
   "cell_type": "code",
   "execution_count": 157,
   "id": "4b7c89a0-7060-4a80-ade3-ba885498d683",
   "metadata": {},
   "outputs": [],
   "source": [
    "table = pd.read_excel(PATH_TO_TEST_INTERVALS)\n",
    "\n",
    "start_interval_time = table['start']\n",
    "finish_interval_time = table['finish']"
   ]
  },
  {
   "cell_type": "code",
   "execution_count": 105,
   "id": "56a4a3c4-525d-4130-8ac9-aa2dd1964b6a",
   "metadata": {
    "tags": []
   },
   "outputs": [
    {
     "data": {
      "application/vnd.jupyter.widget-view+json": {
       "model_id": "e977a91ea46a40fea00a754d14c62224",
       "version_major": 2,
       "version_minor": 0
      },
      "text/plain": [
       "0it [00:00, ?it/s]"
      ]
     },
     "metadata": {},
     "output_type": "display_data"
    }
   ],
   "source": [
    "list_index = []\n",
    "target = []\n",
    "\n",
    "for index, row in tqdm(table.iterrows()):\n",
    "        \n",
    "        start_interval_time = row['start']\n",
    "        finish_interval_time = row['finish']\n",
    "        \n",
    "        idx_start = len(data_test.loc[data_test.index <= start_interval_time])\n",
    "        idx_end = len(data_test.loc[data_test.index <= finish_interval_time])       \n",
    "        \n",
    "        interval = data_test.iloc[idx_start:idx_end,:].index\n",
    "        target_value = tt[idx_start:idx_end,:]\n",
    "        \n",
    "        list_index.append(interval)\n",
    "        target.append(target_value)"
   ]
  },
  {
   "cell_type": "code",
   "execution_count": 109,
   "id": "eae6cf3a-1920-4a23-ab4c-0956a417c9b5",
   "metadata": {},
   "outputs": [
    {
     "data": {
      "text/plain": [
       "[DatetimeIndex(['2022-01-01 10:55:00', '2022-01-01 10:55:10',\n",
       "                '2022-01-01 10:55:20', '2022-01-01 10:55:30',\n",
       "                '2022-01-01 10:55:40', '2022-01-01 10:55:50',\n",
       "                '2022-01-01 10:56:00', '2022-01-01 10:56:10',\n",
       "                '2022-01-01 10:56:20', '2022-01-01 10:56:30',\n",
       "                ...\n",
       "                '2022-01-01 16:42:00', '2022-01-01 16:42:10',\n",
       "                '2022-01-01 16:42:20', '2022-01-01 16:42:30',\n",
       "                '2022-01-01 16:42:40', '2022-01-01 16:42:50',\n",
       "                '2022-01-01 16:43:00', '2022-01-01 16:43:10',\n",
       "                '2022-01-01 16:43:20', '2022-01-01 16:43:30'],\n",
       "               dtype='datetime64[ns]', name='DT', length=2092, freq=None),\n",
       " DatetimeIndex(['2022-01-02 12:26:50', '2022-01-02 12:27:00',\n",
       "                '2022-01-02 12:27:10', '2022-01-02 12:27:20',\n",
       "                '2022-01-02 12:27:30', '2022-01-02 12:27:40',\n",
       "                '2022-01-02 12:27:50', '2022-01-02 12:28:00',\n",
       "                '2022-01-02 12:28:10', '2022-01-02 12:28:20',\n",
       "                ...\n",
       "                '2022-01-02 15:14:30', '2022-01-02 15:14:40',\n",
       "                '2022-01-02 15:14:50', '2022-01-02 15:15:00',\n",
       "                '2022-01-02 15:15:10', '2022-01-02 15:15:20',\n",
       "                '2022-01-02 15:15:30', '2022-01-02 15:15:40',\n",
       "                '2022-01-02 15:15:50', '2022-01-02 15:16:00'],\n",
       "               dtype='datetime64[ns]', name='DT', length=1016, freq=None)]"
      ]
     },
     "execution_count": 109,
     "metadata": {},
     "output_type": "execute_result"
    }
   ],
   "source": [
    "list_index[:2]"
   ]
  },
  {
   "cell_type": "code",
   "execution_count": 111,
   "id": "fbc61cf8-e0d7-4855-8b2d-8d8a000143d0",
   "metadata": {},
   "outputs": [
    {
     "data": {
      "text/plain": [
       "189"
      ]
     },
     "execution_count": 111,
     "metadata": {},
     "output_type": "execute_result"
    }
   ],
   "source": [
    "len(list_index)"
   ]
  },
  {
   "cell_type": "code",
   "execution_count": 112,
   "id": "5ebb1d83-8903-4d61-8033-8ef16422769b",
   "metadata": {},
   "outputs": [
    {
     "data": {
      "text/plain": [
       "189"
      ]
     },
     "execution_count": 112,
     "metadata": {},
     "output_type": "execute_result"
    }
   ],
   "source": [
    "len(target)"
   ]
  },
  {
   "cell_type": "code",
   "execution_count": 110,
   "id": "cea8c007-b357-420a-bca6-6d2dc17efbf0",
   "metadata": {},
   "outputs": [
    {
     "data": {
      "text/plain": [
       "[array([[1, 0, 1, ..., 0, 0, 0],\n",
       "        [1, 0, 1, ..., 0, 0, 0],\n",
       "        [1, 0, 1, ..., 0, 0, 0],\n",
       "        ...,\n",
       "        [1, 0, 1, ..., 0, 0, 0],\n",
       "        [1, 0, 1, ..., 0, 0, 0],\n",
       "        [1, 0, 1, ..., 0, 0, 0]], dtype=int32),\n",
       " array([[1, 0, 1, ..., 0, 0, 0],\n",
       "        [1, 0, 1, ..., 0, 0, 0],\n",
       "        [1, 0, 1, ..., 0, 0, 0],\n",
       "        ...,\n",
       "        [1, 0, 1, ..., 0, 0, 0],\n",
       "        [1, 0, 1, ..., 0, 0, 0],\n",
       "        [1, 0, 1, ..., 0, 0, 0]], dtype=int32)]"
      ]
     },
     "execution_count": 110,
     "metadata": {},
     "output_type": "execute_result"
    }
   ],
   "source": [
    "target[:2]"
   ]
  },
  {
   "cell_type": "code",
   "execution_count": 90,
   "id": "e95c16e5-0eaa-445a-82a9-46e6ed2a1874",
   "metadata": {},
   "outputs": [
    {
     "data": {
      "text/plain": [
       "array([[1, 0, 1, ..., 0, 0, 0],\n",
       "       [1, 0, 1, ..., 0, 0, 0],\n",
       "       [1, 0, 1, ..., 0, 0, 0],\n",
       "       ...,\n",
       "       [1, 0, 1, ..., 0, 0, 0],\n",
       "       [1, 0, 1, ..., 0, 0, 0],\n",
       "       [1, 0, 1, ..., 0, 0, 0]], dtype=int32)"
      ]
     },
     "execution_count": 90,
     "metadata": {},
     "output_type": "execute_result"
    }
   ],
   "source": [
    "np.concatenate((target[0],target[1]))"
   ]
  },
  {
   "cell_type": "code",
   "execution_count": 79,
   "id": "c43f80ce-3645-4c1d-9e8e-fa445fb5f65a",
   "metadata": {},
   "outputs": [],
   "source": [
    "A = []\n",
    "for i in target:\n",
    "    A.append(i)"
   ]
  },
  {
   "cell_type": "code",
   "execution_count": 82,
   "id": "2aaee29a-bbbc-4a43-b381-75353f0714db",
   "metadata": {
    "collapsed": true,
    "jupyter": {
     "outputs_hidden": true
    },
    "tags": []
   },
   "outputs": [
    {
     "data": {
      "text/plain": [
       "[array([[1, 0, 1, ..., 0, 0, 0],\n",
       "        [1, 0, 1, ..., 0, 0, 0],\n",
       "        [1, 0, 1, ..., 0, 0, 0],\n",
       "        ...,\n",
       "        [1, 0, 1, ..., 0, 0, 0],\n",
       "        [1, 0, 1, ..., 0, 0, 0],\n",
       "        [1, 0, 1, ..., 0, 0, 0]], dtype=int32),\n",
       " array([[1, 0, 1, ..., 0, 0, 0],\n",
       "        [1, 0, 1, ..., 0, 0, 0],\n",
       "        [1, 0, 1, ..., 0, 0, 0],\n",
       "        ...,\n",
       "        [1, 0, 1, ..., 0, 0, 0],\n",
       "        [1, 0, 1, ..., 0, 0, 0],\n",
       "        [1, 0, 1, ..., 0, 0, 0]], dtype=int32),\n",
       " array([[1, 0, 1, ..., 0, 0, 0],\n",
       "        [1, 0, 1, ..., 0, 0, 0],\n",
       "        [1, 0, 1, ..., 0, 0, 0],\n",
       "        ...,\n",
       "        [1, 0, 1, ..., 0, 0, 0],\n",
       "        [1, 0, 1, ..., 0, 0, 0],\n",
       "        [1, 0, 1, ..., 0, 0, 0]], dtype=int32),\n",
       " array([[1, 0, 1, ..., 0, 0, 0],\n",
       "        [1, 0, 1, ..., 0, 0, 0],\n",
       "        [1, 0, 1, ..., 0, 0, 0],\n",
       "        ...,\n",
       "        [1, 0, 1, ..., 0, 0, 0],\n",
       "        [1, 0, 1, ..., 0, 0, 0],\n",
       "        [1, 0, 1, ..., 0, 0, 0]], dtype=int32),\n",
       " array([[1, 0, 1, ..., 0, 0, 0],\n",
       "        [1, 0, 1, ..., 0, 0, 0],\n",
       "        [1, 0, 1, ..., 0, 0, 0],\n",
       "        ...,\n",
       "        [1, 0, 1, ..., 0, 0, 0],\n",
       "        [1, 0, 1, ..., 0, 0, 0],\n",
       "        [1, 0, 1, ..., 0, 0, 0]], dtype=int32),\n",
       " array([[1, 0, 1, ..., 0, 0, 0],\n",
       "        [1, 0, 1, ..., 0, 0, 0],\n",
       "        [1, 0, 1, ..., 0, 0, 0],\n",
       "        ...,\n",
       "        [1, 0, 1, ..., 0, 0, 0],\n",
       "        [1, 0, 1, ..., 0, 0, 0],\n",
       "        [1, 0, 1, ..., 0, 0, 0]], dtype=int32)]"
      ]
     },
     "execution_count": 82,
     "metadata": {},
     "output_type": "execute_result"
    }
   ],
   "source": [
    "A"
   ]
  },
  {
   "cell_type": "code",
   "execution_count": 31,
   "id": "a9d3538f-9713-4e25-b3b1-674aca20676f",
   "metadata": {},
   "outputs": [
    {
     "data": {
      "text/plain": [
       "DatetimeIndex(['2022-01-01 10:55:00', '2022-01-01 10:55:10',\n",
       "               '2022-01-01 10:55:20', '2022-01-01 10:55:30',\n",
       "               '2022-01-01 10:55:40', '2022-01-01 10:55:50',\n",
       "               '2022-01-01 10:56:00', '2022-01-01 10:56:10',\n",
       "               '2022-01-01 10:56:20', '2022-01-01 10:56:30',\n",
       "               ...\n",
       "               '2022-01-01 16:42:00', '2022-01-01 16:42:10',\n",
       "               '2022-01-01 16:42:20', '2022-01-01 16:42:30',\n",
       "               '2022-01-01 16:42:40', '2022-01-01 16:42:50',\n",
       "               '2022-01-01 16:43:00', '2022-01-01 16:43:10',\n",
       "               '2022-01-01 16:43:20', '2022-01-01 16:43:30'],\n",
       "              dtype='datetime64[ns]', name='DT', length=2092, freq=None)"
      ]
     },
     "execution_count": 31,
     "metadata": {},
     "output_type": "execute_result"
    }
   ],
   "source": [
    "list_index[0]"
   ]
  },
  {
   "cell_type": "code",
   "execution_count": 32,
   "id": "9130eb6c-2c12-4b34-89ab-febd1c9b9a25",
   "metadata": {},
   "outputs": [],
   "source": [
    "name_labels = ['Y_ЭКСГАУСТЕР А/М №4_ЭЛЕКТРОДВИГАТЕЛЬ ДСПУ-140-84-4 ЭКСГ. №4',\n",
    " 'Y_ЭКСГАУСТЕР А/М №4_ПОДШИПНИК ОПОРНЫЙ ЭКСГ. №4',\n",
    " 'Y_ЭКСГАУСТЕР А/М №4_УЛИТА ЭКСГ. №4',\n",
    " 'Y_ЭКСГАУСТЕР А/М №4_РЕДУКТОР ГАЗ. ЗАДВИЖКИ ЭКСГ. №4',\n",
    " 'Y_ЭКСГАУСТЕР А/М №4_МАСЛОНАСОС РАБОЧИЙ ЭКСГ. №4',\n",
    " 'Y_ЭКСГАУСТЕР А/М №4_ЭЛЕКТРОАППАРАТУРА ЭКСГ. №4',\n",
    " 'Y_ЭКСГАУСТЕР А/М №4_ПОДШИПНИК ОПОРНЫЙ №2 ЭКСГ. №4',\n",
    " 'Y_ЭКСГАУСТЕР А/М №4_ЗАДВИЖКА ЭКСГ. №4',\n",
    " 'Y_ЭКСГАУСТЕР А/М №4_ГСМ ЭКСГ. №4',\n",
    " 'Y_ЭКСГАУСТЕР А/М №4_ВК 310С ВИБРОПРЕОБРАЗОВАТЕЛЬ ЭКСГ.№4 Т.1',\n",
    " 'Y_ЭКСГАУСТЕР А/М №4_ТСМТ-101-010-50М-400 ТЕРМОПР.ПОДШ.Т.1',\n",
    " 'Y_ЭКСГАУСТЕР А/М №4_РОТОР ЭКСГ. №4',\n",
    " 'Y_ЭКСГАУСТЕР А/М №4_МАСЛООХЛАДИТЕЛЬ  М-05-1 ЭКСГ. №4',\n",
    " 'Y_ЭКСГАУСТЕР А/М №4_ПОДШИПНИК ОПОРНО-УПОРНЫЙ ЭКСГ. №4',\n",
    " 'Y_ЭКСГАУСТЕР А/М №4_ЭКСГАУСТЕР А/М №4',\n",
    " 'Y_ЭКСГАУСТЕР А/М №4_ЗАП. И РЕГ. АРМАТУРА ЭКСГ.№4',\n",
    " 'Y_ЭКСГАУСТЕР А/М №4_ПОДШИПНИК ОПОРНЫЙ №1 ЭКСГ. №4',\n",
    " 'Y_ЭКСГАУСТЕР А/М №4_ЭЛ/ДВИГАТЕЛЬ ГАЗ. ЗАДВИЖКИ ЭКСГ. №4',\n",
    " 'Y_ЭКСГАУСТЕР А/М №4_КЛ1 ТР№4 ДО ЭД ЭКСГАУСТЕРА №4',\n",
    " 'Y_ЭКСГАУСТЕР А/М №4_КЛ2 ТР№4 ДО ЭД ЭКСГАУСТЕРА №4',\n",
    " 'Y_ЭКСГАУСТЕР А/М №4_ТР-Р ТМ-4000-10/6 ЭКСГ. №4',\n",
    " 'Y_ЭКСГАУСТЕР А/М №4_ТИРИСТ. ВОЗБУДИТЕЛЬ ВТ-РЭМ-400 ЭКСГ4 ВУ1',\n",
    " 'Y_ЭКСГАУСТЕР А/М №4_МАСЛОПРОВОДЫ ЭКСГ №4'\n",
    "]"
   ]
  },
  {
   "cell_type": "code",
   "execution_count": 117,
   "id": "415293f9-50cb-42d2-8719-3be033c5a691",
   "metadata": {},
   "outputs": [
    {
     "data": {
      "text/plain": [
       "189"
      ]
     },
     "execution_count": 117,
     "metadata": {},
     "output_type": "execute_result"
    }
   ],
   "source": [
    "int_counts = len(list_index)\n",
    "int_counts"
   ]
  },
  {
   "cell_type": "code",
   "execution_count": 139,
   "id": "372f94e0-aff3-49ea-a917-72264cee1be7",
   "metadata": {},
   "outputs": [],
   "source": [
    "df_columns = pd.DataFrame(columns = name_labels)\n",
    "\n",
    "for i in range(int_counts):\n",
    "    df = pd.DataFrame(data = target[i], index = list_index[i], columns = name_labels)\n",
    "    df_columns = pd.concat([df_columns, df])\n",
    "    \n",
    "df_columns.replace(1, 2, inplace=True)"
   ]
  },
  {
   "cell_type": "code",
   "execution_count": 146,
   "id": "6726a047-b215-4c3f-ae4b-00b5c2519dcd",
   "metadata": {},
   "outputs": [],
   "source": [
    "file_name = 'submit_M3.csv'\n",
    "df_columns.to_csv(file_name)"
   ]
  },
  {
   "cell_type": "code",
   "execution_count": 158,
   "id": "b59c9087-3b06-4c01-a7be-60b6b211535a",
   "metadata": {},
   "outputs": [
    {
     "data": {
      "text/html": [
       "<div>\n",
       "<style scoped>\n",
       "    .dataframe tbody tr th:only-of-type {\n",
       "        vertical-align: middle;\n",
       "    }\n",
       "\n",
       "    .dataframe tbody tr th {\n",
       "        vertical-align: top;\n",
       "    }\n",
       "\n",
       "    .dataframe thead th {\n",
       "        text-align: right;\n",
       "    }\n",
       "</style>\n",
       "<table border=\"1\" class=\"dataframe\">\n",
       "  <thead>\n",
       "    <tr style=\"text-align: right;\">\n",
       "      <th></th>\n",
       "      <th>Unnamed: 0</th>\n",
       "      <th>start</th>\n",
       "      <th>finish</th>\n",
       "      <th>machine</th>\n",
       "      <th>tm</th>\n",
       "    </tr>\n",
       "  </thead>\n",
       "  <tbody>\n",
       "    <tr>\n",
       "      <th>0</th>\n",
       "      <td>97</td>\n",
       "      <td>2022-01-01 10:54:53</td>\n",
       "      <td>2022-01-01 16:43:39</td>\n",
       "      <td>NaN</td>\n",
       "      <td>NaN</td>\n",
       "    </tr>\n",
       "    <tr>\n",
       "      <th>1</th>\n",
       "      <td>118</td>\n",
       "      <td>2022-01-02 12:26:42</td>\n",
       "      <td>2022-01-02 15:16:06</td>\n",
       "      <td>NaN</td>\n",
       "      <td>NaN</td>\n",
       "    </tr>\n",
       "    <tr>\n",
       "      <th>2</th>\n",
       "      <td>126</td>\n",
       "      <td>2022-01-04 12:06:07</td>\n",
       "      <td>2022-01-04 15:04:34</td>\n",
       "      <td>NaN</td>\n",
       "      <td>NaN</td>\n",
       "    </tr>\n",
       "    <tr>\n",
       "      <th>3</th>\n",
       "      <td>163</td>\n",
       "      <td>2022-01-04 20:13:57</td>\n",
       "      <td>2022-01-05 00:19:40</td>\n",
       "      <td>NaN</td>\n",
       "      <td>NaN</td>\n",
       "    </tr>\n",
       "    <tr>\n",
       "      <th>4</th>\n",
       "      <td>0</td>\n",
       "      <td>2022-01-07 09:05:16</td>\n",
       "      <td>2022-01-07 14:05:15</td>\n",
       "      <td>NaN</td>\n",
       "      <td>NaN</td>\n",
       "    </tr>\n",
       "    <tr>\n",
       "      <th>...</th>\n",
       "      <td>...</td>\n",
       "      <td>...</td>\n",
       "      <td>...</td>\n",
       "      <td>...</td>\n",
       "      <td>...</td>\n",
       "    </tr>\n",
       "    <tr>\n",
       "      <th>184</th>\n",
       "      <td>66</td>\n",
       "      <td>2023-04-07 15:36:42</td>\n",
       "      <td>2023-04-07 19:27:38</td>\n",
       "      <td>NaN</td>\n",
       "      <td>NaN</td>\n",
       "    </tr>\n",
       "    <tr>\n",
       "      <th>185</th>\n",
       "      <td>138</td>\n",
       "      <td>2023-04-09 19:55:43</td>\n",
       "      <td>2023-04-09 23:12:53</td>\n",
       "      <td>NaN</td>\n",
       "      <td>NaN</td>\n",
       "    </tr>\n",
       "    <tr>\n",
       "      <th>186</th>\n",
       "      <td>67</td>\n",
       "      <td>2023-04-10 18:08:25</td>\n",
       "      <td>2023-04-10 21:47:02</td>\n",
       "      <td>NaN</td>\n",
       "      <td>NaN</td>\n",
       "    </tr>\n",
       "    <tr>\n",
       "      <th>187</th>\n",
       "      <td>68</td>\n",
       "      <td>2023-04-18 02:28:43</td>\n",
       "      <td>2023-04-18 06:38:47</td>\n",
       "      <td>NaN</td>\n",
       "      <td>NaN</td>\n",
       "    </tr>\n",
       "    <tr>\n",
       "      <th>188</th>\n",
       "      <td>69</td>\n",
       "      <td>2023-04-20 16:41:58</td>\n",
       "      <td>2023-04-20 23:58:07</td>\n",
       "      <td>NaN</td>\n",
       "      <td>NaN</td>\n",
       "    </tr>\n",
       "  </tbody>\n",
       "</table>\n",
       "<p>189 rows × 5 columns</p>\n",
       "</div>"
      ],
      "text/plain": [
       "     Unnamed: 0               start              finish  machine  tm\n",
       "0            97 2022-01-01 10:54:53 2022-01-01 16:43:39      NaN NaN\n",
       "1           118 2022-01-02 12:26:42 2022-01-02 15:16:06      NaN NaN\n",
       "2           126 2022-01-04 12:06:07 2022-01-04 15:04:34      NaN NaN\n",
       "3           163 2022-01-04 20:13:57 2022-01-05 00:19:40      NaN NaN\n",
       "4             0 2022-01-07 09:05:16 2022-01-07 14:05:15      NaN NaN\n",
       "..          ...                 ...                 ...      ...  ..\n",
       "184          66 2023-04-07 15:36:42 2023-04-07 19:27:38      NaN NaN\n",
       "185         138 2023-04-09 19:55:43 2023-04-09 23:12:53      NaN NaN\n",
       "186          67 2023-04-10 18:08:25 2023-04-10 21:47:02      NaN NaN\n",
       "187          68 2023-04-18 02:28:43 2023-04-18 06:38:47      NaN NaN\n",
       "188          69 2023-04-20 16:41:58 2023-04-20 23:58:07      NaN NaN\n",
       "\n",
       "[189 rows x 5 columns]"
      ]
     },
     "execution_count": 158,
     "metadata": {},
     "output_type": "execute_result"
    }
   ],
   "source": [
    "table"
   ]
  }
 ],
 "metadata": {
  "kernelspec": {
   "display_name": "Python 3 (ipykernel)",
   "language": "python",
   "name": "python3"
  },
  "language_info": {
   "codemirror_mode": {
    "name": "ipython",
    "version": 3
   },
   "file_extension": ".py",
   "mimetype": "text/x-python",
   "name": "python",
   "nbconvert_exporter": "python",
   "pygments_lexer": "ipython3",
   "version": "3.9.13"
  }
 },
 "nbformat": 4,
 "nbformat_minor": 5
}
