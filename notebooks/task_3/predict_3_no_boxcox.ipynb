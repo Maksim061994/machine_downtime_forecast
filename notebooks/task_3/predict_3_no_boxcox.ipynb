{
 "cells": [
  {
   "cell_type": "code",
   "execution_count": 1,
   "id": "ca80de09-9ad2-49f6-8ecf-5d1a49457140",
   "metadata": {},
   "outputs": [
    {
     "name": "stdout",
     "output_type": "stream",
     "text": [
      "Collecting openpyxl\n",
      "  Downloading openpyxl-3.1.2-py2.py3-none-any.whl (249 kB)\n",
      "\u001b[2K     \u001b[90m━━━━━━━━━━━━━━━━━━━━━━━━━━━━━━━━━━━━━━━\u001b[0m \u001b[32m250.0/250.0 kB\u001b[0m \u001b[31m1.8 MB/s\u001b[0m eta \u001b[36m0:00:00\u001b[0ma \u001b[36m0:00:01\u001b[0m\n",
      "\u001b[?25hCollecting et-xmlfile\n",
      "  Downloading et_xmlfile-1.1.0-py3-none-any.whl (4.7 kB)\n",
      "Installing collected packages: et-xmlfile, openpyxl\n",
      "Successfully installed et-xmlfile-1.1.0 openpyxl-3.1.2\n",
      "\n",
      "\u001b[1m[\u001b[0m\u001b[34;49mnotice\u001b[0m\u001b[1;39;49m]\u001b[0m\u001b[39;49m A new release of pip is available: \u001b[0m\u001b[31;49m23.0.1\u001b[0m\u001b[39;49m -> \u001b[0m\u001b[32;49m23.1.2\u001b[0m\n",
      "\u001b[1m[\u001b[0m\u001b[34;49mnotice\u001b[0m\u001b[1;39;49m]\u001b[0m\u001b[39;49m To update, run: \u001b[0m\u001b[32;49mpip install --upgrade pip\u001b[0m\n"
     ]
    }
   ],
   "source": [
    "!pip install openpyxl"
   ]
  },
  {
   "cell_type": "code",
   "execution_count": 10,
   "id": "994ec2fd-809e-40fe-9473-b0ac856d2fe7",
   "metadata": {},
   "outputs": [],
   "source": [
    "import pandas as pd\n",
    "import dask.dataframe as dd\n",
    "import numpy as np\n",
    "import seaborn as sns\n",
    "import matplotlib.pyplot as plt\n",
    "import statsmodels.api as sm\n",
    "from tqdm.notebook import tqdm\n",
    "import catboost as cb\n",
    "import numpy as np\n",
    "import pandas as pd\n",
    "from scipy import stats\n",
    "from scipy.special import boxcox1p, inv_boxcox1p\n",
    "\n",
    "\n",
    "\n",
    "PATH_TO_TEST_DATA = 'data/datasets/X_test.parquet'\n",
    "PATH_TO_TEST_INTERVALS = 'data/datasets/test_intervals.xlsx'"
   ]
  },
  {
   "cell_type": "code",
   "execution_count": 11,
   "id": "16450dea-0c21-46e8-b95e-a5030a533cfa",
   "metadata": {},
   "outputs": [],
   "source": [
    "X_test = dd.read_parquet(PATH_TO_TEST_DATA, engine=\"pyarrow\")\n",
    "\n",
    "# fix this\n",
    "X_light = dd.read_parquet(PATH_TO_TEST_DATA, columns=['ЭКСГАУСТЕР 4. ТОК РОТОРА 1'], engine=\"pyarrow\")"
   ]
  },
  {
   "cell_type": "code",
   "execution_count": 12,
   "id": "6573ba7d-a59a-4256-893c-3d5d32650780",
   "metadata": {},
   "outputs": [],
   "source": [
    "def get_single_exgauster_columns_dict(X_test):\n",
    "    \n",
    "    all_columns = list(X_test.columns)\n",
    "    columns_dict = {}\n",
    "    for exg_number in [4, 5, 6, 7, 8, 9]:\n",
    "        exg_name = f'ЭКСГАУСТЕР {exg_number}'\n",
    "        columns_dict[exg_number] = [col for col in all_columns if exg_name in col]\n",
    "    return columns_dict"
   ]
  },
  {
   "cell_type": "code",
   "execution_count": 17,
   "id": "e44f60a7-9e96-4803-b015-5dd7822269e3",
   "metadata": {
    "tags": []
   },
   "outputs": [],
   "source": [
    "columns_dict = get_single_exgauster_columns_dict(X_test)"
   ]
  },
  {
   "cell_type": "markdown",
   "id": "22cf7eae-e64e-4251-bc8b-d8db54139f1c",
   "metadata": {},
   "source": [
    "#### Добавляем фичи для задач 1 и 3"
   ]
  },
  {
   "cell_type": "code",
   "execution_count": 13,
   "id": "db6edaf3-4085-4cd5-b493-5265d6d7980d",
   "metadata": {},
   "outputs": [],
   "source": [
    "from warnings import simplefilter\n",
    "\n",
    "simplefilter(action=\"ignore\", category=pd.errors.PerformanceWarning)\n",
    "\n",
    "\n",
    "def add_features(X_test, columns_dict, exg_number):\n",
    "    \n",
    "    features = X_test[columns_dict[exg_number]].compute()\n",
    "    features[\"date\"] = features.index.date\n",
    "    \n",
    "    features[f'ЭКСГАУСТЕР {exg_number}. ВИБРАЦИЯ НА ОПОРЕ 4'] = features[f'ЭКСГАУСТЕР {exg_number}. ВИБРАЦИЯ НА ОПОРЕ 4'].abs()\n",
    "    \n",
    "    def compute_window_features(data, name_f):\n",
    "        windows = ['7D', '30D'] # del '5h', '10h'\n",
    "        for f in tqdm(name_f):\n",
    "            for window in windows:\n",
    "                data[f\"{f}_{window}_mean\"] = data[f].rolling(window, min_periods=1).mean()\n",
    "                data[f\"{f}_{window}_std\"] = data[f].rolling(window, min_periods=1).std()\n",
    "                data[f\"{f}_{window}_median\"] = data[f].rolling(window, min_periods=1).median()\n",
    "                data[f\"{f}_{window}_max\"] = data[f].rolling(window, min_periods=1).max()\n",
    "                \n",
    "            data[f\"{f}_7D_chg_mean\"] = data[f\"{f}\"]/data[f\"{f}_7D_mean\"]\n",
    "            data[f\"{f}_30D_chg_mean\"] = data[f\"{f}\"]/data[f\"{f}_30D_mean\"]\n",
    "            data[f\"{f}_7D_chg_median\"] = data[f\"{f}\"]/data[f\"{f}_7D_median\"]\n",
    "            data[f\"{f}_30D_chg_median\"] = data[f\"{f}\"]/data[f\"{f}_30D_median\"]        \n",
    "            data[f\"{f}_diff_between_values\"] = data[f\"{f}\"] / data[f\"{f}\"].rolling(1, min_periods=1).mean()\n",
    "        return data\n",
    "    \n",
    "    data_test = compute_window_features(features, columns_dict[exg_number])\n",
    "    data_test.drop(columns=[\"date\"], inplace=True)\n",
    "    \n",
    "    return data_test"
   ]
  },
  {
   "cell_type": "markdown",
   "id": "31113c65-c062-4fcf-9eab-a1dbc83dc0de",
   "metadata": {},
   "source": [
    "#### Задача №3"
   ]
  },
  {
   "cell_type": "code",
   "execution_count": 21,
   "id": "11915334-640e-4628-851a-01bb285663d0",
   "metadata": {},
   "outputs": [],
   "source": [
    "from catboost import CatBoostRegressor\n",
    "from scipy.special import inv_boxcox1p\n",
    "\n",
    "\n",
    "def load_catboost_model(exg_number):\n",
    "    \n",
    "    model = CatBoostRegressor()\n",
    "    model.load_model(f'models/cb_regressor_exg_{exg_number}_boxcox_org_loss.cbm')\n",
    "    return model\n",
    "\n",
    "def make_regressor_predictions(X_test, model, exg_number):\n",
    "    pred = model.predict(X_test)    \n",
    "    return pred\n",
    "\n",
    "def postprocess_task_3(pred):\n",
    "    return np.round(inv_boxcox1p(pred, 0.7), decimals=-1).astype(int)\n",
    "\n",
    "\n",
    "def make_task_3_preds(X_test, columns_dict, exg_number):\n",
    "    \n",
    "    data_test = add_features(X_test, columns_dict, exg_number)\n",
    "    \n",
    "    model = load_catboost_model(exg_number)\n",
    "    reg_preds = make_task_3_predictions(data_test, model)\n",
    "    preds = postprocess_task_3(reg_preds)\n",
    "    \n",
    "    return preds"
   ]
  },
  {
   "cell_type": "code",
   "execution_count": 22,
   "id": "48cd2ec9-2603-47b5-8421-a3fe39c7adb4",
   "metadata": {},
   "outputs": [],
   "source": [
    "\n",
    "def make_exg_task_3_prediction(exg_number):\n",
    "    \n",
    "    data_test = add_features(X_test, columns_dict, exg_number)\n",
    "    model = load_catboost_model(exg_number)\n",
    "    \n",
    "    reg_preds = make_regressor_predictions(data_test, model, exg_number)\n",
    "    round_preds = postprocess_task_3(reg_preds)\n",
    "    \n",
    "    preds_df = pd.DataFrame({f'round_preds_exg_{exg_number}': round_preds})\n",
    "    preds_df['date'] = X_light.index\n",
    "    preds_df.to_csv(f'submit_preds/round_preds_exg_{exg_number}.csv')\n"
   ]
  },
  {
   "cell_type": "code",
   "execution_count": 24,
   "id": "ae964388-a945-43d9-9a53-76cf796d7041",
   "metadata": {
    "tags": []
   },
   "outputs": [
    {
     "data": {
      "application/vnd.jupyter.widget-view+json": {
       "model_id": "1bf37ae5862144b8b604790741b702bc",
       "version_major": 2,
       "version_minor": 0
      },
      "text/plain": [
       "  0%|          | 0/16 [00:00<?, ?it/s]"
      ]
     },
     "metadata": {},
     "output_type": "display_data"
    }
   ],
   "source": [
    "\n",
    "for exg_number in [4]:\n",
    "    make_exg_task_3_prediction(exg_number)"
   ]
  }
 ],
 "metadata": {
  "kernelspec": {
   "display_name": "Python 3 (ipykernel)",
   "language": "python",
   "name": "python3"
  },
  "language_info": {
   "codemirror_mode": {
    "name": "ipython",
    "version": 3
   },
   "file_extension": ".py",
   "mimetype": "text/x-python",
   "name": "python",
   "nbconvert_exporter": "python",
   "pygments_lexer": "ipython3",
   "version": "3.9.13"
  }
 },
 "nbformat": 4,
 "nbformat_minor": 5
}
