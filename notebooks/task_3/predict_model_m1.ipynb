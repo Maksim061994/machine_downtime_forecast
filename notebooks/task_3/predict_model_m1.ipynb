{
 "cells": [
  {
   "cell_type": "code",
   "execution_count": 1,
   "id": "ca80de09-9ad2-49f6-8ecf-5d1a49457140",
   "metadata": {},
   "outputs": [
    {
     "name": "stdout",
     "output_type": "stream",
     "text": [
      "Requirement already satisfied: openpyxl in /opt/conda/lib/python3.9/site-packages (3.1.2)\n",
      "Requirement already satisfied: et-xmlfile in /opt/conda/lib/python3.9/site-packages (from openpyxl) (1.1.0)\n",
      "\n",
      "\u001b[1m[\u001b[0m\u001b[34;49mnotice\u001b[0m\u001b[1;39;49m]\u001b[0m\u001b[39;49m A new release of pip is available: \u001b[0m\u001b[31;49m23.0.1\u001b[0m\u001b[39;49m -> \u001b[0m\u001b[32;49m23.1.2\u001b[0m\n",
      "\u001b[1m[\u001b[0m\u001b[34;49mnotice\u001b[0m\u001b[1;39;49m]\u001b[0m\u001b[39;49m To update, run: \u001b[0m\u001b[32;49mpip install --upgrade pip\u001b[0m\n"
     ]
    }
   ],
   "source": [
    "!pip install openpyxl"
   ]
  },
  {
   "cell_type": "code",
   "execution_count": 1,
   "id": "994ec2fd-809e-40fe-9473-b0ac856d2fe7",
   "metadata": {},
   "outputs": [],
   "source": [
    "import pandas as pd\n",
    "import dask.dataframe as dd\n",
    "import numpy as np\n",
    "import seaborn as sns\n",
    "import matplotlib.pyplot as plt\n",
    "import statsmodels.api as sm\n",
    "from tqdm.notebook import tqdm\n",
    "import catboost as cb\n",
    "import numpy as np\n",
    "import pandas as pd\n",
    "from scipy import stats\n",
    "from scipy.special import boxcox1p, inv_boxcox1p\n",
    "\n",
    "\n",
    "\n",
    "PATH_TO_TEST_DATA = 'data/X_test.parquet'\n",
    "PATH_TO_TEST_INTERVALS = 'data/test_intervals.xlsx'"
   ]
  },
  {
   "cell_type": "code",
   "execution_count": 2,
   "id": "16450dea-0c21-46e8-b95e-a5030a533cfa",
   "metadata": {},
   "outputs": [],
   "source": [
    "X_test = dd.read_parquet(PATH_TO_TEST_DATA, engine=\"pyarrow\")\n",
    "\n",
    "# fix this\n",
    "# X_light = dd.read_parquet(PATH_TO_TEST_DATA, columns=['ЭКСГАУСТЕР 4. ТОК РОТОРА 1'], engine=\"pyarrow\")"
   ]
  },
  {
   "cell_type": "code",
   "execution_count": 3,
   "id": "6573ba7d-a59a-4256-893c-3d5d32650780",
   "metadata": {},
   "outputs": [],
   "source": [
    "def get_single_exgauster_columns_dict(X_test):\n",
    "    \n",
    "    all_columns = list(X_test.columns)\n",
    "    columns_dict = {}\n",
    "    for exg_number in [4, 5, 6, 7, 8, 9]:\n",
    "        exg_name = f'ЭКСГАУСТЕР {exg_number}'\n",
    "        columns_dict[exg_number] = [col for col in all_columns if exg_name in col]\n",
    "    return columns_dict"
   ]
  },
  {
   "cell_type": "code",
   "execution_count": 4,
   "id": "e44f60a7-9e96-4803-b015-5dd7822269e3",
   "metadata": {
    "tags": []
   },
   "outputs": [],
   "source": [
    "columns_dict = get_single_exgauster_columns_dict(X_test)"
   ]
  },
  {
   "cell_type": "markdown",
   "id": "22cf7eae-e64e-4251-bc8b-d8db54139f1c",
   "metadata": {},
   "source": [
    "#### Добавляем фичи для задач 1 и 3"
   ]
  },
  {
   "cell_type": "code",
   "execution_count": 5,
   "id": "db6edaf3-4085-4cd5-b493-5265d6d7980d",
   "metadata": {},
   "outputs": [],
   "source": [
    "from warnings import simplefilter\n",
    "\n",
    "simplefilter(action=\"ignore\", category=pd.errors.PerformanceWarning)\n",
    "\n",
    "\n",
    "def add_features(X_test, columns_dict, exg_number):\n",
    "    \n",
    "    features = X_test[columns_dict[exg_number]].compute()\n",
    "    features[\"date\"] = features.index.date\n",
    "    \n",
    "    # features[f'ЭКСГАУСТЕР {exg_number}. ВИБРАЦИЯ НА ОПОРЕ {exg_number}'] = features[f'ЭКСГАУСТЕР {exg_number}. ВИБРАЦИЯ НА ОПОРЕ {exg_number}'].abs()\n",
    "    \n",
    "    def compute_window_features(data, name_f):\n",
    "        windows = ['1h', '1D', '7D', '30D'] # del '5h', '10h'\n",
    "        for f in tqdm(name_f):\n",
    "            for window in windows:\n",
    "                data[f\"{f}_{window}_mean\"] = data[f].rolling(window, min_periods=1).mean()\n",
    "                data[f\"{f}_{window}_std\"] = data[f].rolling(window, min_periods=1).std()\n",
    "                data[f\"{f}_{window}_median\"] = data[f].rolling(window, min_periods=1).median()\n",
    "                data[f\"{f}_{window}_max\"] = data[f].rolling(window, min_periods=1).max()\n",
    "                \n",
    "            data[f\"{f}_1D_chg_mean\"] = data[f\"{f}\"]/data[f\"{f}_1D_mean\"]\n",
    "            data[f\"{f}_7D_chg_mean\"] = data[f\"{f}\"]/data[f\"{f}_7D_mean\"]\n",
    "            data[f\"{f}_30D_chg_mean\"] = data[f\"{f}\"]/data[f\"{f}_30D_mean\"]\n",
    "            data[f\"{f}_1D_chg_median\"] = data[f\"{f}\"]/data[f\"{f}_1D_median\"]\n",
    "            data[f\"{f}_7D_chg_median\"] = data[f\"{f}\"]/data[f\"{f}_7D_median\"]\n",
    "            data[f\"{f}_30D_chg_median\"] = data[f\"{f}\"]/data[f\"{f}_30D_median\"]        \n",
    "            data[f\"{f}_diff_between_values\"] = data[f\"{f}\"] / data[f\"{f}\"].rolling(1, min_periods=1).mean()\n",
    "        return data\n",
    "    \n",
    "    data_test = compute_window_features(features, columns_dict[exg_number])\n",
    "    data_test.drop(columns=[\"date\"], inplace=True)\n",
    "    \n",
    "    return data_test"
   ]
  },
  {
   "cell_type": "markdown",
   "id": "31113c65-c062-4fcf-9eab-a1dbc83dc0de",
   "metadata": {},
   "source": [
    "#### Задача №3"
   ]
  },
  {
   "cell_type": "code",
   "execution_count": null,
   "id": "11915334-640e-4628-851a-01bb285663d0",
   "metadata": {},
   "outputs": [],
   "source": [
    "from catboost import CatBoostRegressor\n",
    "\n",
    "\n",
    "def load_catboost_model(exg_number):\n",
    "    \n",
    "    model = CatBoostRegressor()\n",
    "    model.load_model(f'models/cb_regressor_exg_{exg_number}_boxcox_org_loss.cbm')\n",
    "    return model\n",
    "\n",
    "def make_regressor_predictions(X_test, model, exg_number):\n",
    "    pred = model.predict(X_test)    \n",
    "    return pred\n",
    "\n",
    "def postprocess_task_3(pred):\n",
    "    return np.round(pred, decimals=-1).astype(int)\n",
    "\n",
    "\n",
    "def make_task_3_preds(X_test, columns_dict, exg_number):\n",
    "    \n",
    "    data_test = add_features(X_test, columns_dict, exg_number)\n",
    "    \n",
    "    model = load_catboost_model(exg_number)\n",
    "    reg_preds = make_task_3_predictions(data_test, model)\n",
    "    preds = postprocess_task_3(reg_preds)\n",
    "    \n",
    "    return preds"
   ]
  },
  {
   "cell_type": "markdown",
   "id": "27c7e636-492f-41d7-ad57-20c9ae19fb5a",
   "metadata": {},
   "source": [
    "### Задача №1"
   ]
  },
  {
   "cell_type": "code",
   "execution_count": null,
   "id": "b389b040-01ba-4bc2-b543-a55961071aad",
   "metadata": {},
   "outputs": [],
   "source": [
    "\n",
    "def find_interval_by_quantile(model_prediction, bins, y_test, y_preds):   \n",
    "\n",
    "    intervals = list()\n",
    "    for i in range(1, bins):\n",
    "        intervals.append(y_preds.quantile(i / bins))\n",
    "\n",
    "    if model_prediction < intervals[0]:\n",
    "        val_min = -np.inf\n",
    "        val_max = intervals[0]\n",
    "\n",
    "    elif model_prediction > intervals[-1]:\n",
    "        val_min = intervals[-1]\n",
    "        val_max = np.inf      \n",
    "\n",
    "    else:    \n",
    "        for i in range(1, bins):\n",
    "            if model_prediction < intervals[i]:\n",
    "                val_min = intervals[i-1]\n",
    "                val_max = intervals[i]                \n",
    "                break\n",
    "\n",
    "    y_test = pd.Series(y_test)\n",
    "    y_preds = pd.Series(y_preds)\n",
    "    y_preds_interval_index = y_preds[(y_preds >= val_min) & (y_preds <= val_max)].index    \n",
    "    interval_data = y_test[y_preds_interval_index]\n",
    "    return interval_data\n",
    "\n",
    "def find_probability(interval_data, horizon):\n",
    "    return interval_data[interval_data <= horizon].shape[0] / interval_data.shape[0]\n",
    "\n",
    "def find_prob(model_prediction, horizon, y_test, y_preds, bins=10):\n",
    "    return find_probability(find_interval_by_quantile(model_prediction, bins, y_test, y_preds), horizon)  \n"
   ]
  },
  {
   "cell_type": "code",
   "execution_count": null,
   "id": "f0915aaa-9056-40de-89bd-d118617fb4e6",
   "metadata": {},
   "outputs": [],
   "source": [
    "def make_task_1_preds(reg_preds, X_light, exg_number, boxcox_lmbda: float = 0.7, conf_th: float = 0.05):\n",
    "    \n",
    "    table = pd.read_excel(PATH_TO_TEST_INTERVALS)\n",
    "    table[f'preds_proba_{exg_number}'] = 0\n",
    "    table[f'preds_label_{exg_number}'] = 0\n",
    "    \n",
    "    for index, row in table.iterrows():\n",
    "        \n",
    "        start_interval_time = row['start']\n",
    "        finish_interval_time = row['finish']\n",
    "        \n",
    "        idx = len(X_light.loc[X_light.index <= start_interval_time])\n",
    "        dt_index = X_light.loc[X_light.index <= start_interval_time].tail(1).index\n",
    "        \n",
    "        horizon = pd.Timedelta(pd.to_datetime(finish_interval_time) - pd.DatetimeIndex.to_pydatetime(dt_index)[0])\n",
    "        horizon = horizon.total_seconds() / 60\n",
    "        horizon_boxcox = boxcox1p(horizon, boxcox_lmbda)\n",
    "        \n",
    "        model_prediction = reg_preds[idx-1]\n",
    "\n",
    "        proba = find_prob(model_prediction, horizon_boxcox, y_test, y_preds, bins=10)\n",
    "        table.loc[index, f'preds_proba_{exg_number}'] = proba\n",
    "        table.loc[index, f'preds_label_{exg_number}'] = 1 if proba >= conf_th else 0\n",
    "\n",
    "    result = table.copy()\n",
    "    \n",
    "    return result"
   ]
  },
  {
   "cell_type": "markdown",
   "id": "3b660db1-87d1-4bde-a903-4fd986c05699",
   "metadata": {},
   "source": [
    "### exg 4"
   ]
  },
  {
   "cell_type": "code",
   "execution_count": 33,
   "id": "14abcf4f-5980-4ec2-ba3e-6c10b80fe116",
   "metadata": {},
   "outputs": [],
   "source": [
    "exg_number = 4\n",
    "\n",
    "data_test = add_features(X_test, columns_dict, exg_number)\n",
    "model = load_catboost_model(exg_number)\n",
    "reg_preds = make_regressor_predictions(data_test, model, exg_number)\n",
    "\n",
    "\n",
    "y_test = pd.read_csv(f'test_preds/y_test_exg_{exg_number}.csv')\n",
    "y_test = y_test['y']\n",
    "\n",
    "y_preds = pd.read_csv(f'test_preds/y_preds_exg_{exg_number}.csv')\n",
    "y_preds = y_preds.iloc[:, 1]\n",
    "\n",
    "results = make_task_1_preds(reg_preds, data_test, exg_number, boxcox_lmbda=0.7)\n",
    "results[\"machine\"] = exg_number\n",
    "results[f\"preds_label_{exg_number}\"] = (results[f'preds_proba_{exg_number}'] > 0.001).astype(int)\n",
    "results.drop(columns=[\"machine\", \"tm\"], inplace=True)\n",
    "results.to_csv(f\"results/preds_task_1_machine_{exg_number}.csv\", index=False)\n",
    "data_test[\"time_to_m1_seconds\"] = inv_boxcox1p(reg_preds, 0.7)\n",
    "data_test[\"time_to_m1_seconds\"].round(0).to_csv(f\"results/preds_task_3_machine_{exg_number}.csv\")\n",
    "data_test.drop(columns=[\"time_to_m1_seconds\"], inplace=True)"
   ]
  },
  {
   "cell_type": "markdown",
   "id": "72929026-7ad8-49d4-b7a9-f7b5fcfd8c8d",
   "metadata": {},
   "source": [
    "### exg 5"
   ]
  },
  {
   "cell_type": "code",
   "execution_count": 11,
   "id": "d56c44d5-58b9-4a3b-8be0-acaca56ac37d",
   "metadata": {},
   "outputs": [
    {
     "data": {
      "application/vnd.jupyter.widget-view+json": {
       "model_id": "6956a97d21154245bbaa848a833cbc21",
       "version_major": 2,
       "version_minor": 0
      },
      "text/plain": [
       "  0%|          | 0/16 [00:00<?, ?it/s]"
      ]
     },
     "metadata": {},
     "output_type": "display_data"
    }
   ],
   "source": [
    "exg_number = 5\n",
    "\n",
    "data_test = add_features(X_test, columns_dict, exg_number)\n",
    "model = load_catboost_model(exg_number)\n",
    "reg_preds = make_regressor_predictions(data_test, model, exg_number)\n",
    "\n",
    "\n",
    "y_test = pd.read_csv(f'test_preds/y_test_exg_{exg_number}.csv')\n",
    "y_test = y_test['y']\n",
    "\n",
    "y_preds = pd.read_csv(f'test_preds/y_preds_exg_{exg_number}.csv')\n",
    "y_preds = y_preds.iloc[:, 1]\n",
    "\n",
    "results = make_task_1_preds(reg_preds, data_test, exg_number, boxcox_lmbda=0.7)\n",
    "results[\"machine\"] = exg_number\n",
    "results[f\"preds_label_{exg_number}\"] = (results[f'preds_proba_{exg_number}'] > 0.001).astype(int)\n",
    "results.drop(columns=[\"machine\", \"tm\"], inplace=True)\n",
    "results.to_csv(f\"results/preds_task_1_machine_{exg_number}.csv\", index=False)\n",
    "data_test[\"time_to_m1_seconds\"] = inv_boxcox1p(reg_preds, 0.7)\n",
    "data_test[\"time_to_m1_seconds\"].round(0).to_csv(f\"results/preds_task_3_machine_{exg_number}.csv\")\n",
    "data_test.drop(columns=[\"time_to_m1_seconds\"], inplace=True)"
   ]
  },
  {
   "cell_type": "markdown",
   "id": "d83841dd-e42a-4dc2-bf61-f475eb6d2cb6",
   "metadata": {},
   "source": [
    "### exg 6"
   ]
  },
  {
   "cell_type": "code",
   "execution_count": null,
   "id": "1a304ce1-90fd-4efe-8236-e95f5cf3b3fd",
   "metadata": {},
   "outputs": [
    {
     "data": {
      "application/vnd.jupyter.widget-view+json": {
       "model_id": "2277f34fb471407388b8a18209673910",
       "version_major": 2,
       "version_minor": 0
      },
      "text/plain": [
       "  0%|          | 0/16 [00:00<?, ?it/s]"
      ]
     },
     "metadata": {},
     "output_type": "display_data"
    }
   ],
   "source": [
    "exg_number = 6\n",
    "\n",
    "data_test = add_features(X_test, columns_dict, exg_number)\n",
    "model = load_catboost_model(exg_number)\n",
    "reg_preds = make_regressor_predictions(data_test, model, exg_number)\n",
    "\n",
    "\n",
    "y_test = pd.read_csv(f'test_preds/y_test_exg_{exg_number}.csv')\n",
    "y_test = y_test['y']\n",
    "\n",
    "y_preds = pd.read_csv(f'test_preds/y_preds_exg_{exg_number}.csv')\n",
    "y_preds = y_preds.iloc[:, 1]\n",
    "\n",
    "results = make_task_1_preds(reg_preds, data_test, exg_number, boxcox_lmbda=0.7)\n",
    "results[\"machine\"] = exg_number\n",
    "results[f\"preds_label_{exg_number}\"] = (results[f'preds_proba_{exg_number}'] > 0.001).astype(int)\n",
    "results.drop(columns=[\"machine\", \"tm\"], inplace=True)\n",
    "results.to_csv(f\"results/preds_task_1_machine_{exg_number}.csv\", index=False)\n",
    "data_test[\"time_to_m1_seconds\"] = inv_boxcox1p(reg_preds, 0.7)\n",
    "data_test[\"time_to_m1_seconds\"].round(0).to_csv(f\"results/preds_task_3_machine_{exg_number}.csv\")\n",
    "data_test.drop(columns=[\"time_to_m1_seconds\"], inplace=True)"
   ]
  },
  {
   "cell_type": "markdown",
   "id": "3dc286de-d62e-47ad-9d13-fb74d6b7b181",
   "metadata": {},
   "source": [
    "### exg 7"
   ]
  },
  {
   "cell_type": "code",
   "execution_count": null,
   "id": "90d0c860-4324-4a4f-b435-27a280a857fa",
   "metadata": {},
   "outputs": [],
   "source": [
    "exg_number = 7\n",
    "\n",
    "data_test = add_features(X_test, columns_dict, exg_number)\n",
    "model = load_catboost_model(exg_number)\n",
    "reg_preds = make_regressor_predictions(data_test, model, exg_number)\n",
    "\n",
    "\n",
    "y_test = pd.read_csv(f'test_preds/y_test_exg_{exg_number}.csv')\n",
    "y_test = y_test['y']\n",
    "\n",
    "y_preds = pd.read_csv(f'test_preds/y_preds_exg_{exg_number}.csv')\n",
    "y_preds = y_preds.iloc[:, 1]\n",
    "\n",
    "results = make_task_1_preds(reg_preds, data_test, exg_number, boxcox_lmbda=0.7)\n",
    "results[\"machine\"] = exg_number\n",
    "results[f\"preds_label_{exg_number}\"] = (results[f'preds_proba_{exg_number}'] > 0.001).astype(int)\n",
    "results.drop(columns=[\"machine\", \"tm\"], inplace=True)\n",
    "results.to_csv(f\"results/preds_task_1_machine_{exg_number}.csv\", index=False)\n",
    "data_test[\"time_to_m1_seconds\"] = inv_boxcox1p(reg_preds, 0.7)\n",
    "data_test[\"time_to_m1_seconds\"].round(0).to_csv(f\"results/preds_task_3_machine_{exg_number}.csv\")\n",
    "data_test.drop(columns=[\"time_to_m1_seconds\"], inplace=True)"
   ]
  },
  {
   "cell_type": "markdown",
   "id": "b5054536-5892-4bf3-935d-0c51c69dbb94",
   "metadata": {},
   "source": [
    "### exg 8"
   ]
  },
  {
   "cell_type": "code",
   "execution_count": null,
   "id": "996c5db8-5cd8-425a-883a-37029d065f35",
   "metadata": {},
   "outputs": [],
   "source": [
    "exg_number = 8\n",
    "\n",
    "data_test = add_features(X_test, columns_dict, exg_number)\n",
    "model = load_catboost_model(exg_number)\n",
    "reg_preds = make_regressor_predictions(data_test, model, exg_number)\n",
    "\n",
    "\n",
    "y_test = pd.read_csv(f'test_preds/y_test_exg_{exg_number}.csv')\n",
    "y_test = y_test['y']\n",
    "\n",
    "y_preds = pd.read_csv(f'test_preds/y_preds_exg_{exg_number}.csv')\n",
    "y_preds = y_preds.iloc[:, 1]\n",
    "\n",
    "results = make_task_1_preds(reg_preds, data_test, exg_number, boxcox_lmbda=0.7)\n",
    "results[\"machine\"] = exg_number\n",
    "results[f\"preds_label_{exg_number}\"] = (results[f'preds_proba_{exg_number}'] > 0.001).astype(int)\n",
    "results.drop(columns=[\"machine\", \"tm\"], inplace=True)\n",
    "results.to_csv(f\"results/preds_task_1_machine_{exg_number}.csv\", index=False)\n",
    "data_test[\"time_to_m1_seconds\"] = inv_boxcox1p(reg_preds, 0.7)\n",
    "data_test[\"time_to_m1_seconds\"].round(0).to_csv(f\"results/preds_task_3_machine_{exg_number}.csv\")\n",
    "data_test.drop(columns=[\"time_to_m1_seconds\"], inplace=True)"
   ]
  },
  {
   "cell_type": "markdown",
   "id": "6fe16775-94d8-4539-a825-f053f47bd364",
   "metadata": {},
   "source": [
    "### exg 9"
   ]
  },
  {
   "cell_type": "code",
   "execution_count": null,
   "id": "5adf5522-3698-4eea-81ab-f42782ddd03f",
   "metadata": {},
   "outputs": [],
   "source": [
    "exg_number = 9\n",
    "\n",
    "data_test = add_features(X_test, columns_dict, exg_number)\n",
    "model = load_catboost_model(exg_number)\n",
    "reg_preds = make_regressor_predictions(data_test, model, exg_number)\n",
    "\n",
    "\n",
    "y_test = pd.read_csv(f'test_preds/y_test_exg_{exg_number}.csv')\n",
    "y_test = y_test['y']\n",
    "\n",
    "y_preds = pd.read_csv(f'test_preds/y_preds_exg_{exg_number}.csv')\n",
    "y_preds = y_preds.iloc[:, 1]\n",
    "\n",
    "results = make_task_1_preds(reg_preds, data_test, exg_number, boxcox_lmbda=0.7)\n",
    "results[\"machine\"] = exg_number\n",
    "results[f\"preds_label_{exg_number}\"] = (results[f'preds_proba_{exg_number}'] > 0.001).astype(int)\n",
    "results.drop(columns=[\"machine\", \"tm\"], inplace=True)\n",
    "results.to_csv(f\"results/preds_task_1_machine_{exg_number}.csv\", index=False)\n",
    "data_test[\"time_to_m1_seconds\"] = inv_boxcox1p(reg_preds, 0.7)\n",
    "data_test[\"time_to_m1_seconds\"].round(0).to_csv(f\"results/preds_task_3_machine_{exg_number}.csv\")\n",
    "data_test.drop(columns=[\"time_to_m1_seconds\"], inplace=True)"
   ]
  }
 ],
 "metadata": {
  "kernelspec": {
   "display_name": "Python 3 (ipykernel)",
   "language": "python",
   "name": "python3"
  },
  "language_info": {
   "codemirror_mode": {
    "name": "ipython",
    "version": 3
   },
   "file_extension": ".py",
   "mimetype": "text/x-python",
   "name": "python",
   "nbconvert_exporter": "python",
   "pygments_lexer": "ipython3",
   "version": "3.9.13"
  }
 },
 "nbformat": 4,
 "nbformat_minor": 5
}
